{
 "cells": [
  {
   "cell_type": "code",
   "execution_count": 1,
   "metadata": {},
   "outputs": [],
   "source": [
    "from pycorenlp import StanfordCoreNLP\n",
    "\n",
    "def total_sentiment(text):\n",
    "    \n",
    "    n1=0\n",
    "    n2=0\n",
    "    n3=0\n",
    "    n4=0\n",
    "    n5=0\n",
    "\n",
    "    nlp = StanfordCoreNLP('http://localhost:9000')\n",
    "\n",
    "    results = nlp.annotate(text,properties={\n",
    "            'annotators':'sentiment, ner, pos',\n",
    "            'outputFormat': 'json',\n",
    "            'timeout': 50000,\n",
    "            })\n",
    "\n",
    "    for s in results[\"sentences\"]:\n",
    "        if(s[\"sentiment\"] == 'Very Negative'):\n",
    "            n1+=1\n",
    "        elif(s[\"sentiment\"] == 'Negative'):\n",
    "            n2+=1\n",
    "        elif(s[\"sentiment\"] == 'Neutral'):\n",
    "            n3+=1\n",
    "        elif(s[\"sentiment\"] == 'Positive'):\n",
    "            n4+=1\n",
    "        else:\n",
    "            n5+=1\n",
    "\n",
    "        total_sentiment = 1*n1 + 2*n2 + 3*n3 + 4*n4 + 5*n5\n",
    "\n",
    "#         print(s[\"sentiment\"])\n",
    "\n",
    "    return(total_sentiment)"
   ]
  },
  {
   "cell_type": "code",
   "execution_count": 48,
   "metadata": {},
   "outputs": [
    {
     "name": "stdout",
     "output_type": "stream",
     "text": [
      "Negative\n",
      "Neutral\n",
      "Positive\n",
      "9\n"
     ]
    }
   ],
   "source": [
    "from pycorenlp import StanfordCoreNLP\n",
    "\n",
    "n1=0\n",
    "n2=0\n",
    "n3=0\n",
    "n4=0\n",
    "n5=0\n",
    "\n",
    "nlp = StanfordCoreNLP('http://localhost:9000')\n",
    "\n",
    "text = \"Lithium batteries are something new introduced in the market there average developing cost is relatively high but Stallion doesn't compromise on quality and provides us with the best at a low cost.<br />There are so many in built technical assistants that act like a sensor in their particular forté. The battery keeps my phone charged up and it works at every voltage and a high voltage is never risked.\"\n",
    "\n",
    "results = nlp.annotate(text,properties={\n",
    "        'annotators':'sentiment, ner, pos',\n",
    "        'outputFormat': 'json',\n",
    "        'timeout': 50000,\n",
    "        })\n",
    "\n",
    "for s in results[\"sentences\"]:\n",
    "    if(s[\"sentiment\"] == 'Very Negative'):\n",
    "        n1+=1\n",
    "    elif(s[\"sentiment\"] == 'Negative'):\n",
    "        n2+=1\n",
    "    elif(s[\"sentiment\"] == 'Neutral'):\n",
    "        n3+=1\n",
    "    elif(s[\"sentiment\"] == 'Positive'):\n",
    "        n4+=1\n",
    "    else:\n",
    "        n5+=1\n",
    "        \n",
    "    total_sentiment = 1*n1 + 2*n2 + 3*n3 + 4*n4 + 5*n5\n",
    "       \n",
    "    print(s[\"sentiment\"])\n",
    "\n",
    "print(total_sentiment)"
   ]
  },
  {
   "cell_type": "code",
   "execution_count": null,
   "metadata": {},
   "outputs": [],
   "source": [
    "# # 𝑇𝑜𝑡𝑎𝑙 𝑆𝑒𝑛𝑡𝑖𝑚𝑒𝑛𝑡 = 1 ∗ (𝑉𝑒𝑟𝑦 𝑁𝑒𝑔𝑎𝑡𝑖𝑣𝑒) + 2 ∗ (𝑁𝑒𝑔𝑎𝑡𝑖𝑣𝑒) + 3 ∗ (𝑁𝑒𝑢𝑡𝑟𝑎𝑙) + 4 ∗ (𝑃𝑜𝑠𝑖𝑡𝑖𝑣𝑒) + 5 ∗ (𝑉𝑒𝑟𝑦 𝑃𝑜𝑠𝑖𝑡𝑖𝑣𝑒)"
   ]
  },
  {
   "cell_type": "code",
   "execution_count": null,
   "metadata": {},
   "outputs": [],
   "source": []
  },
  {
   "cell_type": "code",
   "execution_count": null,
   "metadata": {},
   "outputs": [],
   "source": []
  },
  {
   "cell_type": "code",
   "execution_count": null,
   "metadata": {},
   "outputs": [],
   "source": []
  },
  {
   "cell_type": "code",
   "execution_count": null,
   "metadata": {},
   "outputs": [],
   "source": []
  },
  {
   "cell_type": "code",
   "execution_count": null,
   "metadata": {},
   "outputs": [],
   "source": []
  },
  {
   "cell_type": "code",
   "execution_count": null,
   "metadata": {},
   "outputs": [],
   "source": []
  }
 ],
 "metadata": {
  "kernelspec": {
   "display_name": "Python 3",
   "language": "python",
   "name": "python3"
  },
  "language_info": {
   "codemirror_mode": {
    "name": "ipython",
    "version": 3
   },
   "file_extension": ".py",
   "mimetype": "text/x-python",
   "name": "python",
   "nbconvert_exporter": "python",
   "pygments_lexer": "ipython3",
   "version": "3.7.6"
  }
 },
 "nbformat": 4,
 "nbformat_minor": 4
}
