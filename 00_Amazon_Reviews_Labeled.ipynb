{
 "cells": [
  {
   "cell_type": "code",
   "execution_count": 96,
   "metadata": {},
   "outputs": [],
   "source": [
    "import pandas as pd\n",
    "import numpy as np\n",
    "import matplotlib.pyplot as plt\n",
    "import seaborn as sns\n",
    "import textstat"
   ]
  },
  {
   "cell_type": "markdown",
   "metadata": {},
   "source": [
    "# Amazon Reviews Analysis\n",
    "## By David Penny"
   ]
  },
  {
   "cell_type": "markdown",
   "metadata": {},
   "source": [
    "#### Personal Notes\n",
    "\n",
    "Feature Engineering:\n",
    "\n",
    "Features to Add | Description | Example\n",
    "------------- | ------------- | -------------\n",
    "falsified | The label indicating if the review was falsified or not | 1\n",
    "rating | The star rating the customer rated the product from 1-5 | 3\n",
    "verified_purchase | Returns wether or not the customer purchased the product. | 1\n",
    "sentiment | Returns the overall sentiment of the review. | 0\n",
    "num_words_in_text | Returns the total number of words in the text | 23\n",
    "num_stopwords| Returns the total number of stop words. | 12\n",
    "num_words_in_text_no_stop | Returns the total number of words in the text not counting stop words. | 9\n",
    "num_unique_words | Returns the number of unique words in the text. | 17\n",
    "mean_word_len| Returns the average word length in the text. | 4\n",
    "num_chars| Returns the total number of characters. | 251\n",
    "num_punctuations| Returns the total number of punctuations. | 4\n",
    "num_scentences_in_text | Returns the total number of scenctences in the text using textstat library. | 5\n",
    "flesch_ease| Returns the Flesch Reading Ease Score. | 98.11\n",
    "flesch_kincaid_grade | Returns the Flesch-Kincaid Grade of the given text. This is a grade formula in that a score of 9.3 means that a ninth grader would be able to read the document. | 9.3\n",
    "automated_readability_index | Returns the ARI (Automated Readability Index) which outputs a number that approximates the grade level needed to comprehend the text. | 6.5\n",
    "overall_readability_index| Based upon all the above tests, returns the estimated school grade level required to understand the text. | 8.0\n",
    "total_sentiment | TBD | TBD\n",
    "toxic_comment_count | TBD | TBD\n",
    "\n",
    "\n",
    "\n",
    "Boost Accuracy By:\n",
    "- Creating feature total_sentiment_analysis by analyzing the sentiment contained in each scentence - NLP on each scentence and using recurrent neural tensor networks (RNTNs) to determine each scentence sentiment.\n",
    "- Creating feature toxic_comments_count (toxic+severe_toxic+obscene+threat+insult+identity_hate) - Kaggle Challenge\n",
    "\n",
    "Consider:\n",
    "- Scaling data\n",
    "- KNN, Decision Trees, Support Vector Machines\n",
    "- PCA\n",
    "- Model Evaluation\n",
    "- HyperParameter Optimization for each\n",
    "- K-Means, GMM, t-SNE clustering\n",
    "- Neural Networks - recurrent neural tensor networks (RNTNs)"
   ]
  },
  {
   "cell_type": "markdown",
   "metadata": {},
   "source": [
    "### 1. Data Ingest, Check and Cleanup"
   ]
  },
  {
   "cell_type": "code",
   "execution_count": 249,
   "metadata": {},
   "outputs": [],
   "source": [
    "df = pd.read_csv('data/labeled_amazon_reviews.txt', sep=\"\\t\")\n",
    "df.columns = [\"doc_id\", \"falsified\", \"rating\", \"verified_purchase\", \"product_category\", \"product_id\", \"product_title\",\"review_title\",\"review_text\"]"
   ]
  },
  {
   "cell_type": "code",
   "execution_count": 250,
   "metadata": {},
   "outputs": [
    {
     "data": {
      "text/html": [
       "<div>\n",
       "<style scoped>\n",
       "    .dataframe tbody tr th:only-of-type {\n",
       "        vertical-align: middle;\n",
       "    }\n",
       "\n",
       "    .dataframe tbody tr th {\n",
       "        vertical-align: top;\n",
       "    }\n",
       "\n",
       "    .dataframe thead th {\n",
       "        text-align: right;\n",
       "    }\n",
       "</style>\n",
       "<table border=\"1\" class=\"dataframe\">\n",
       "  <thead>\n",
       "    <tr style=\"text-align: right;\">\n",
       "      <th></th>\n",
       "      <th>doc_id</th>\n",
       "      <th>falsified</th>\n",
       "      <th>rating</th>\n",
       "      <th>verified_purchase</th>\n",
       "      <th>product_category</th>\n",
       "      <th>product_id</th>\n",
       "      <th>product_title</th>\n",
       "      <th>review_title</th>\n",
       "      <th>review_text</th>\n",
       "    </tr>\n",
       "  </thead>\n",
       "  <tbody>\n",
       "    <tr>\n",
       "      <th>0</th>\n",
       "      <td>1</td>\n",
       "      <td>__label1__</td>\n",
       "      <td>4</td>\n",
       "      <td>N</td>\n",
       "      <td>PC</td>\n",
       "      <td>B00008NG7N</td>\n",
       "      <td>Targus PAUK10U Ultra Mini USB Keypad, Black</td>\n",
       "      <td>useful</td>\n",
       "      <td>When least you think so, this product will sav...</td>\n",
       "    </tr>\n",
       "    <tr>\n",
       "      <th>1</th>\n",
       "      <td>2</td>\n",
       "      <td>__label1__</td>\n",
       "      <td>4</td>\n",
       "      <td>Y</td>\n",
       "      <td>Wireless</td>\n",
       "      <td>B00LH0Y3NM</td>\n",
       "      <td>Note 3 Battery : Stalion Strength Replacement ...</td>\n",
       "      <td>New era for batteries</td>\n",
       "      <td>Lithium batteries are something new introduced...</td>\n",
       "    </tr>\n",
       "    <tr>\n",
       "      <th>2</th>\n",
       "      <td>3</td>\n",
       "      <td>__label1__</td>\n",
       "      <td>3</td>\n",
       "      <td>N</td>\n",
       "      <td>Baby</td>\n",
       "      <td>B000I5UZ1Q</td>\n",
       "      <td>Fisher-Price Papasan Cradle Swing, Starlight</td>\n",
       "      <td>doesn't swing very well.</td>\n",
       "      <td>I purchased this swing for my baby. She is 6 m...</td>\n",
       "    </tr>\n",
       "    <tr>\n",
       "      <th>3</th>\n",
       "      <td>4</td>\n",
       "      <td>__label1__</td>\n",
       "      <td>4</td>\n",
       "      <td>N</td>\n",
       "      <td>Office Products</td>\n",
       "      <td>B003822IRA</td>\n",
       "      <td>Casio MS-80B Standard Function Desktop Calculator</td>\n",
       "      <td>Great computing!</td>\n",
       "      <td>I was looking for an inexpensive desk calcolat...</td>\n",
       "    </tr>\n",
       "    <tr>\n",
       "      <th>4</th>\n",
       "      <td>5</td>\n",
       "      <td>__label1__</td>\n",
       "      <td>4</td>\n",
       "      <td>N</td>\n",
       "      <td>Beauty</td>\n",
       "      <td>B00PWSAXAM</td>\n",
       "      <td>Shine Whitening - Zero Peroxide Teeth Whitenin...</td>\n",
       "      <td>Only use twice a week</td>\n",
       "      <td>I only use it twice a week and the results are...</td>\n",
       "    </tr>\n",
       "    <tr>\n",
       "      <th>5</th>\n",
       "      <td>6</td>\n",
       "      <td>__label1__</td>\n",
       "      <td>3</td>\n",
       "      <td>N</td>\n",
       "      <td>Health &amp; Personal Care</td>\n",
       "      <td>B00686HNUK</td>\n",
       "      <td>Tobacco Pipe Stand - Fold-away Portable - Ligh...</td>\n",
       "      <td>not sure</td>\n",
       "      <td>I'm not sure what this is supposed to be but I...</td>\n",
       "    </tr>\n",
       "    <tr>\n",
       "      <th>6</th>\n",
       "      <td>7</td>\n",
       "      <td>__label1__</td>\n",
       "      <td>4</td>\n",
       "      <td>N</td>\n",
       "      <td>Toys</td>\n",
       "      <td>B00NUG865W</td>\n",
       "      <td>ESPN 2-Piece Table Tennis</td>\n",
       "      <td>PING PONG TABLE GREAT FOR YOUTHS AND FAMILY</td>\n",
       "      <td>Pleased with ping pong table. 11 year old and ...</td>\n",
       "    </tr>\n",
       "    <tr>\n",
       "      <th>7</th>\n",
       "      <td>8</td>\n",
       "      <td>__label1__</td>\n",
       "      <td>4</td>\n",
       "      <td>Y</td>\n",
       "      <td>Beauty</td>\n",
       "      <td>B00QUL8VX6</td>\n",
       "      <td>Abundant Health 25% Vitamin C Serum with Vitam...</td>\n",
       "      <td>Great vitamin C serum</td>\n",
       "      <td>Great vitamin C serum... I really like the oil...</td>\n",
       "    </tr>\n",
       "    <tr>\n",
       "      <th>8</th>\n",
       "      <td>9</td>\n",
       "      <td>__label1__</td>\n",
       "      <td>4</td>\n",
       "      <td>N</td>\n",
       "      <td>Health &amp; Personal Care</td>\n",
       "      <td>B004YHKVCM</td>\n",
       "      <td>PODS Spring Meadow HE Turbo Laundry Detergent ...</td>\n",
       "      <td>wonderful detergent.</td>\n",
       "      <td>I've used tide pods laundry detergent for many...</td>\n",
       "    </tr>\n",
       "    <tr>\n",
       "      <th>9</th>\n",
       "      <td>10</td>\n",
       "      <td>__label1__</td>\n",
       "      <td>1</td>\n",
       "      <td>N</td>\n",
       "      <td>Health &amp; Personal Care</td>\n",
       "      <td>B00H4IBD0M</td>\n",
       "      <td>Sheer TEST, Best Testosterone Booster Suppleme...</td>\n",
       "      <td>WARNING: do not waste your money on this</td>\n",
       "      <td>Everybody wants to fall for their promises. Bu...</td>\n",
       "    </tr>\n",
       "  </tbody>\n",
       "</table>\n",
       "</div>"
      ],
      "text/plain": [
       "   doc_id   falsified  rating verified_purchase        product_category  \\\n",
       "0       1  __label1__       4                 N                      PC   \n",
       "1       2  __label1__       4                 Y                Wireless   \n",
       "2       3  __label1__       3                 N                    Baby   \n",
       "3       4  __label1__       4                 N         Office Products   \n",
       "4       5  __label1__       4                 N                  Beauty   \n",
       "5       6  __label1__       3                 N  Health & Personal Care   \n",
       "6       7  __label1__       4                 N                    Toys   \n",
       "7       8  __label1__       4                 Y                  Beauty   \n",
       "8       9  __label1__       4                 N  Health & Personal Care   \n",
       "9      10  __label1__       1                 N  Health & Personal Care   \n",
       "\n",
       "   product_id                                      product_title  \\\n",
       "0  B00008NG7N        Targus PAUK10U Ultra Mini USB Keypad, Black   \n",
       "1  B00LH0Y3NM  Note 3 Battery : Stalion Strength Replacement ...   \n",
       "2  B000I5UZ1Q       Fisher-Price Papasan Cradle Swing, Starlight   \n",
       "3  B003822IRA  Casio MS-80B Standard Function Desktop Calculator   \n",
       "4  B00PWSAXAM  Shine Whitening - Zero Peroxide Teeth Whitenin...   \n",
       "5  B00686HNUK  Tobacco Pipe Stand - Fold-away Portable - Ligh...   \n",
       "6  B00NUG865W                          ESPN 2-Piece Table Tennis   \n",
       "7  B00QUL8VX6  Abundant Health 25% Vitamin C Serum with Vitam...   \n",
       "8  B004YHKVCM  PODS Spring Meadow HE Turbo Laundry Detergent ...   \n",
       "9  B00H4IBD0M  Sheer TEST, Best Testosterone Booster Suppleme...   \n",
       "\n",
       "                                  review_title  \\\n",
       "0                                       useful   \n",
       "1                        New era for batteries   \n",
       "2                     doesn't swing very well.   \n",
       "3                             Great computing!   \n",
       "4                        Only use twice a week   \n",
       "5                                     not sure   \n",
       "6  PING PONG TABLE GREAT FOR YOUTHS AND FAMILY   \n",
       "7                        Great vitamin C serum   \n",
       "8                         wonderful detergent.   \n",
       "9     WARNING: do not waste your money on this   \n",
       "\n",
       "                                         review_text  \n",
       "0  When least you think so, this product will sav...  \n",
       "1  Lithium batteries are something new introduced...  \n",
       "2  I purchased this swing for my baby. She is 6 m...  \n",
       "3  I was looking for an inexpensive desk calcolat...  \n",
       "4  I only use it twice a week and the results are...  \n",
       "5  I'm not sure what this is supposed to be but I...  \n",
       "6  Pleased with ping pong table. 11 year old and ...  \n",
       "7  Great vitamin C serum... I really like the oil...  \n",
       "8  I've used tide pods laundry detergent for many...  \n",
       "9  Everybody wants to fall for their promises. Bu...  "
      ]
     },
     "execution_count": 250,
     "metadata": {},
     "output_type": "execute_result"
    }
   ],
   "source": [
    "df.head(10)"
   ]
  },
  {
   "cell_type": "code",
   "execution_count": 251,
   "metadata": {},
   "outputs": [
    {
     "data": {
      "text/plain": [
       "(21000, 9)"
      ]
     },
     "execution_count": 251,
     "metadata": {},
     "output_type": "execute_result"
    }
   ],
   "source": [
    "df.shape"
   ]
  },
  {
   "cell_type": "code",
   "execution_count": 252,
   "metadata": {},
   "outputs": [
    {
     "name": "stdout",
     "output_type": "stream",
     "text": [
      "<class 'pandas.core.frame.DataFrame'>\n",
      "RangeIndex: 21000 entries, 0 to 20999\n",
      "Data columns (total 9 columns):\n",
      " #   Column             Non-Null Count  Dtype \n",
      "---  ------             --------------  ----- \n",
      " 0   doc_id             21000 non-null  int64 \n",
      " 1   falsified          21000 non-null  object\n",
      " 2   rating             21000 non-null  int64 \n",
      " 3   verified_purchase  21000 non-null  object\n",
      " 4   product_category   21000 non-null  object\n",
      " 5   product_id         21000 non-null  object\n",
      " 6   product_title      21000 non-null  object\n",
      " 7   review_title       21000 non-null  object\n",
      " 8   review_text        21000 non-null  object\n",
      "dtypes: int64(2), object(7)\n",
      "memory usage: 1.4+ MB\n"
     ]
    }
   ],
   "source": [
    "df.info()"
   ]
  },
  {
   "cell_type": "code",
   "execution_count": 253,
   "metadata": {},
   "outputs": [],
   "source": [
    "# Check for NA's\n",
    "def display_NA_counts(the_df):\n",
    "    null_series = the_df.isna().sum(axis=0)\n",
    "    display(null_series[null_series > 0])"
   ]
  },
  {
   "cell_type": "code",
   "execution_count": 254,
   "metadata": {},
   "outputs": [
    {
     "data": {
      "text/plain": [
       "Series([], dtype: int64)"
      ]
     },
     "metadata": {},
     "output_type": "display_data"
    }
   ],
   "source": [
    "display_NA_counts(df)"
   ]
  },
  {
   "cell_type": "code",
   "execution_count": 255,
   "metadata": {},
   "outputs": [
    {
     "data": {
      "text/plain": [
       "0.0"
      ]
     },
     "execution_count": 255,
     "metadata": {},
     "output_type": "execute_result"
    }
   ],
   "source": [
    "#Check for duplicated rows\n",
    "df.duplicated().sum()*100.0/df.shape[0]"
   ]
  },
  {
   "cell_type": "code",
   "execution_count": 256,
   "metadata": {},
   "outputs": [],
   "source": [
    "def get_verified_value(value):\n",
    "    if value == 'Y':\n",
    "        return 1\n",
    "    else:\n",
    "        return 0"
   ]
  },
  {
   "cell_type": "code",
   "execution_count": 257,
   "metadata": {},
   "outputs": [],
   "source": [
    "df['verified_purchase'] = df['verified_purchase'].apply(get_verified_value)"
   ]
  },
  {
   "cell_type": "code",
   "execution_count": 258,
   "metadata": {},
   "outputs": [
    {
     "data": {
      "text/html": [
       "<div>\n",
       "<style scoped>\n",
       "    .dataframe tbody tr th:only-of-type {\n",
       "        vertical-align: middle;\n",
       "    }\n",
       "\n",
       "    .dataframe tbody tr th {\n",
       "        vertical-align: top;\n",
       "    }\n",
       "\n",
       "    .dataframe thead th {\n",
       "        text-align: right;\n",
       "    }\n",
       "</style>\n",
       "<table border=\"1\" class=\"dataframe\">\n",
       "  <thead>\n",
       "    <tr style=\"text-align: right;\">\n",
       "      <th></th>\n",
       "      <th>doc_id</th>\n",
       "      <th>falsified</th>\n",
       "      <th>rating</th>\n",
       "      <th>verified_purchase</th>\n",
       "      <th>product_category</th>\n",
       "      <th>product_id</th>\n",
       "      <th>product_title</th>\n",
       "      <th>review_title</th>\n",
       "      <th>review_text</th>\n",
       "    </tr>\n",
       "  </thead>\n",
       "  <tbody>\n",
       "    <tr>\n",
       "      <th>0</th>\n",
       "      <td>1</td>\n",
       "      <td>__label1__</td>\n",
       "      <td>4</td>\n",
       "      <td>0</td>\n",
       "      <td>PC</td>\n",
       "      <td>B00008NG7N</td>\n",
       "      <td>Targus PAUK10U Ultra Mini USB Keypad, Black</td>\n",
       "      <td>useful</td>\n",
       "      <td>When least you think so, this product will sav...</td>\n",
       "    </tr>\n",
       "    <tr>\n",
       "      <th>1</th>\n",
       "      <td>2</td>\n",
       "      <td>__label1__</td>\n",
       "      <td>4</td>\n",
       "      <td>1</td>\n",
       "      <td>Wireless</td>\n",
       "      <td>B00LH0Y3NM</td>\n",
       "      <td>Note 3 Battery : Stalion Strength Replacement ...</td>\n",
       "      <td>New era for batteries</td>\n",
       "      <td>Lithium batteries are something new introduced...</td>\n",
       "    </tr>\n",
       "    <tr>\n",
       "      <th>2</th>\n",
       "      <td>3</td>\n",
       "      <td>__label1__</td>\n",
       "      <td>3</td>\n",
       "      <td>0</td>\n",
       "      <td>Baby</td>\n",
       "      <td>B000I5UZ1Q</td>\n",
       "      <td>Fisher-Price Papasan Cradle Swing, Starlight</td>\n",
       "      <td>doesn't swing very well.</td>\n",
       "      <td>I purchased this swing for my baby. She is 6 m...</td>\n",
       "    </tr>\n",
       "    <tr>\n",
       "      <th>3</th>\n",
       "      <td>4</td>\n",
       "      <td>__label1__</td>\n",
       "      <td>4</td>\n",
       "      <td>0</td>\n",
       "      <td>Office Products</td>\n",
       "      <td>B003822IRA</td>\n",
       "      <td>Casio MS-80B Standard Function Desktop Calculator</td>\n",
       "      <td>Great computing!</td>\n",
       "      <td>I was looking for an inexpensive desk calcolat...</td>\n",
       "    </tr>\n",
       "    <tr>\n",
       "      <th>4</th>\n",
       "      <td>5</td>\n",
       "      <td>__label1__</td>\n",
       "      <td>4</td>\n",
       "      <td>0</td>\n",
       "      <td>Beauty</td>\n",
       "      <td>B00PWSAXAM</td>\n",
       "      <td>Shine Whitening - Zero Peroxide Teeth Whitenin...</td>\n",
       "      <td>Only use twice a week</td>\n",
       "      <td>I only use it twice a week and the results are...</td>\n",
       "    </tr>\n",
       "  </tbody>\n",
       "</table>\n",
       "</div>"
      ],
      "text/plain": [
       "   doc_id   falsified  rating  verified_purchase product_category  product_id  \\\n",
       "0       1  __label1__       4                  0               PC  B00008NG7N   \n",
       "1       2  __label1__       4                  1         Wireless  B00LH0Y3NM   \n",
       "2       3  __label1__       3                  0             Baby  B000I5UZ1Q   \n",
       "3       4  __label1__       4                  0  Office Products  B003822IRA   \n",
       "4       5  __label1__       4                  0           Beauty  B00PWSAXAM   \n",
       "\n",
       "                                       product_title  \\\n",
       "0        Targus PAUK10U Ultra Mini USB Keypad, Black   \n",
       "1  Note 3 Battery : Stalion Strength Replacement ...   \n",
       "2       Fisher-Price Papasan Cradle Swing, Starlight   \n",
       "3  Casio MS-80B Standard Function Desktop Calculator   \n",
       "4  Shine Whitening - Zero Peroxide Teeth Whitenin...   \n",
       "\n",
       "               review_title                                        review_text  \n",
       "0                    useful  When least you think so, this product will sav...  \n",
       "1     New era for batteries  Lithium batteries are something new introduced...  \n",
       "2  doesn't swing very well.  I purchased this swing for my baby. She is 6 m...  \n",
       "3          Great computing!  I was looking for an inexpensive desk calcolat...  \n",
       "4     Only use twice a week  I only use it twice a week and the results are...  "
      ]
     },
     "execution_count": 258,
     "metadata": {},
     "output_type": "execute_result"
    }
   ],
   "source": [
    "df.head()"
   ]
  },
  {
   "cell_type": "code",
   "execution_count": 259,
   "metadata": {},
   "outputs": [],
   "source": [
    "def get_label(value):\n",
    "    if value == '__label1__':\n",
    "        return 1\n",
    "    else:\n",
    "        return 0"
   ]
  },
  {
   "cell_type": "code",
   "execution_count": 260,
   "metadata": {},
   "outputs": [],
   "source": [
    "df['falsified'] = df['falsified'].apply(get_label)"
   ]
  },
  {
   "cell_type": "code",
   "execution_count": 261,
   "metadata": {},
   "outputs": [
    {
     "data": {
      "text/html": [
       "<div>\n",
       "<style scoped>\n",
       "    .dataframe tbody tr th:only-of-type {\n",
       "        vertical-align: middle;\n",
       "    }\n",
       "\n",
       "    .dataframe tbody tr th {\n",
       "        vertical-align: top;\n",
       "    }\n",
       "\n",
       "    .dataframe thead th {\n",
       "        text-align: right;\n",
       "    }\n",
       "</style>\n",
       "<table border=\"1\" class=\"dataframe\">\n",
       "  <thead>\n",
       "    <tr style=\"text-align: right;\">\n",
       "      <th></th>\n",
       "      <th>doc_id</th>\n",
       "      <th>falsified</th>\n",
       "      <th>rating</th>\n",
       "      <th>verified_purchase</th>\n",
       "      <th>product_category</th>\n",
       "      <th>product_id</th>\n",
       "      <th>product_title</th>\n",
       "      <th>review_title</th>\n",
       "      <th>review_text</th>\n",
       "    </tr>\n",
       "  </thead>\n",
       "  <tbody>\n",
       "    <tr>\n",
       "      <th>0</th>\n",
       "      <td>1</td>\n",
       "      <td>1</td>\n",
       "      <td>4</td>\n",
       "      <td>0</td>\n",
       "      <td>PC</td>\n",
       "      <td>B00008NG7N</td>\n",
       "      <td>Targus PAUK10U Ultra Mini USB Keypad, Black</td>\n",
       "      <td>useful</td>\n",
       "      <td>When least you think so, this product will sav...</td>\n",
       "    </tr>\n",
       "    <tr>\n",
       "      <th>1</th>\n",
       "      <td>2</td>\n",
       "      <td>1</td>\n",
       "      <td>4</td>\n",
       "      <td>1</td>\n",
       "      <td>Wireless</td>\n",
       "      <td>B00LH0Y3NM</td>\n",
       "      <td>Note 3 Battery : Stalion Strength Replacement ...</td>\n",
       "      <td>New era for batteries</td>\n",
       "      <td>Lithium batteries are something new introduced...</td>\n",
       "    </tr>\n",
       "    <tr>\n",
       "      <th>2</th>\n",
       "      <td>3</td>\n",
       "      <td>1</td>\n",
       "      <td>3</td>\n",
       "      <td>0</td>\n",
       "      <td>Baby</td>\n",
       "      <td>B000I5UZ1Q</td>\n",
       "      <td>Fisher-Price Papasan Cradle Swing, Starlight</td>\n",
       "      <td>doesn't swing very well.</td>\n",
       "      <td>I purchased this swing for my baby. She is 6 m...</td>\n",
       "    </tr>\n",
       "    <tr>\n",
       "      <th>3</th>\n",
       "      <td>4</td>\n",
       "      <td>1</td>\n",
       "      <td>4</td>\n",
       "      <td>0</td>\n",
       "      <td>Office Products</td>\n",
       "      <td>B003822IRA</td>\n",
       "      <td>Casio MS-80B Standard Function Desktop Calculator</td>\n",
       "      <td>Great computing!</td>\n",
       "      <td>I was looking for an inexpensive desk calcolat...</td>\n",
       "    </tr>\n",
       "    <tr>\n",
       "      <th>4</th>\n",
       "      <td>5</td>\n",
       "      <td>1</td>\n",
       "      <td>4</td>\n",
       "      <td>0</td>\n",
       "      <td>Beauty</td>\n",
       "      <td>B00PWSAXAM</td>\n",
       "      <td>Shine Whitening - Zero Peroxide Teeth Whitenin...</td>\n",
       "      <td>Only use twice a week</td>\n",
       "      <td>I only use it twice a week and the results are...</td>\n",
       "    </tr>\n",
       "  </tbody>\n",
       "</table>\n",
       "</div>"
      ],
      "text/plain": [
       "   doc_id  falsified  rating  verified_purchase product_category  product_id  \\\n",
       "0       1          1       4                  0               PC  B00008NG7N   \n",
       "1       2          1       4                  1         Wireless  B00LH0Y3NM   \n",
       "2       3          1       3                  0             Baby  B000I5UZ1Q   \n",
       "3       4          1       4                  0  Office Products  B003822IRA   \n",
       "4       5          1       4                  0           Beauty  B00PWSAXAM   \n",
       "\n",
       "                                       product_title  \\\n",
       "0        Targus PAUK10U Ultra Mini USB Keypad, Black   \n",
       "1  Note 3 Battery : Stalion Strength Replacement ...   \n",
       "2       Fisher-Price Papasan Cradle Swing, Starlight   \n",
       "3  Casio MS-80B Standard Function Desktop Calculator   \n",
       "4  Shine Whitening - Zero Peroxide Teeth Whitenin...   \n",
       "\n",
       "               review_title                                        review_text  \n",
       "0                    useful  When least you think so, this product will sav...  \n",
       "1     New era for batteries  Lithium batteries are something new introduced...  \n",
       "2  doesn't swing very well.  I purchased this swing for my baby. She is 6 m...  \n",
       "3          Great computing!  I was looking for an inexpensive desk calcolat...  \n",
       "4     Only use twice a week  I only use it twice a week and the results are...  "
      ]
     },
     "execution_count": 261,
     "metadata": {},
     "output_type": "execute_result"
    }
   ],
   "source": [
    "df.head()"
   ]
  },
  {
   "cell_type": "code",
   "execution_count": 262,
   "metadata": {},
   "outputs": [],
   "source": [
    "def get_sentiment(value):\n",
    "    if value > 3:\n",
    "        return 1\n",
    "    else:\n",
    "        return 0"
   ]
  },
  {
   "cell_type": "code",
   "execution_count": 263,
   "metadata": {},
   "outputs": [],
   "source": [
    "df['sentiment'] = df['rating'].apply(get_sentiment)"
   ]
  },
  {
   "cell_type": "code",
   "execution_count": 264,
   "metadata": {},
   "outputs": [
    {
     "data": {
      "text/html": [
       "<div>\n",
       "<style scoped>\n",
       "    .dataframe tbody tr th:only-of-type {\n",
       "        vertical-align: middle;\n",
       "    }\n",
       "\n",
       "    .dataframe tbody tr th {\n",
       "        vertical-align: top;\n",
       "    }\n",
       "\n",
       "    .dataframe thead th {\n",
       "        text-align: right;\n",
       "    }\n",
       "</style>\n",
       "<table border=\"1\" class=\"dataframe\">\n",
       "  <thead>\n",
       "    <tr style=\"text-align: right;\">\n",
       "      <th></th>\n",
       "      <th>doc_id</th>\n",
       "      <th>falsified</th>\n",
       "      <th>rating</th>\n",
       "      <th>verified_purchase</th>\n",
       "      <th>product_category</th>\n",
       "      <th>product_id</th>\n",
       "      <th>product_title</th>\n",
       "      <th>review_title</th>\n",
       "      <th>review_text</th>\n",
       "      <th>sentiment</th>\n",
       "    </tr>\n",
       "  </thead>\n",
       "  <tbody>\n",
       "    <tr>\n",
       "      <th>0</th>\n",
       "      <td>1</td>\n",
       "      <td>1</td>\n",
       "      <td>4</td>\n",
       "      <td>0</td>\n",
       "      <td>PC</td>\n",
       "      <td>B00008NG7N</td>\n",
       "      <td>Targus PAUK10U Ultra Mini USB Keypad, Black</td>\n",
       "      <td>useful</td>\n",
       "      <td>When least you think so, this product will sav...</td>\n",
       "      <td>1</td>\n",
       "    </tr>\n",
       "    <tr>\n",
       "      <th>1</th>\n",
       "      <td>2</td>\n",
       "      <td>1</td>\n",
       "      <td>4</td>\n",
       "      <td>1</td>\n",
       "      <td>Wireless</td>\n",
       "      <td>B00LH0Y3NM</td>\n",
       "      <td>Note 3 Battery : Stalion Strength Replacement ...</td>\n",
       "      <td>New era for batteries</td>\n",
       "      <td>Lithium batteries are something new introduced...</td>\n",
       "      <td>1</td>\n",
       "    </tr>\n",
       "    <tr>\n",
       "      <th>2</th>\n",
       "      <td>3</td>\n",
       "      <td>1</td>\n",
       "      <td>3</td>\n",
       "      <td>0</td>\n",
       "      <td>Baby</td>\n",
       "      <td>B000I5UZ1Q</td>\n",
       "      <td>Fisher-Price Papasan Cradle Swing, Starlight</td>\n",
       "      <td>doesn't swing very well.</td>\n",
       "      <td>I purchased this swing for my baby. She is 6 m...</td>\n",
       "      <td>0</td>\n",
       "    </tr>\n",
       "    <tr>\n",
       "      <th>3</th>\n",
       "      <td>4</td>\n",
       "      <td>1</td>\n",
       "      <td>4</td>\n",
       "      <td>0</td>\n",
       "      <td>Office Products</td>\n",
       "      <td>B003822IRA</td>\n",
       "      <td>Casio MS-80B Standard Function Desktop Calculator</td>\n",
       "      <td>Great computing!</td>\n",
       "      <td>I was looking for an inexpensive desk calcolat...</td>\n",
       "      <td>1</td>\n",
       "    </tr>\n",
       "    <tr>\n",
       "      <th>4</th>\n",
       "      <td>5</td>\n",
       "      <td>1</td>\n",
       "      <td>4</td>\n",
       "      <td>0</td>\n",
       "      <td>Beauty</td>\n",
       "      <td>B00PWSAXAM</td>\n",
       "      <td>Shine Whitening - Zero Peroxide Teeth Whitenin...</td>\n",
       "      <td>Only use twice a week</td>\n",
       "      <td>I only use it twice a week and the results are...</td>\n",
       "      <td>1</td>\n",
       "    </tr>\n",
       "  </tbody>\n",
       "</table>\n",
       "</div>"
      ],
      "text/plain": [
       "   doc_id  falsified  rating  verified_purchase product_category  product_id  \\\n",
       "0       1          1       4                  0               PC  B00008NG7N   \n",
       "1       2          1       4                  1         Wireless  B00LH0Y3NM   \n",
       "2       3          1       3                  0             Baby  B000I5UZ1Q   \n",
       "3       4          1       4                  0  Office Products  B003822IRA   \n",
       "4       5          1       4                  0           Beauty  B00PWSAXAM   \n",
       "\n",
       "                                       product_title  \\\n",
       "0        Targus PAUK10U Ultra Mini USB Keypad, Black   \n",
       "1  Note 3 Battery : Stalion Strength Replacement ...   \n",
       "2       Fisher-Price Papasan Cradle Swing, Starlight   \n",
       "3  Casio MS-80B Standard Function Desktop Calculator   \n",
       "4  Shine Whitening - Zero Peroxide Teeth Whitenin...   \n",
       "\n",
       "               review_title  \\\n",
       "0                    useful   \n",
       "1     New era for batteries   \n",
       "2  doesn't swing very well.   \n",
       "3          Great computing!   \n",
       "4     Only use twice a week   \n",
       "\n",
       "                                         review_text  sentiment  \n",
       "0  When least you think so, this product will sav...          1  \n",
       "1  Lithium batteries are something new introduced...          1  \n",
       "2  I purchased this swing for my baby. She is 6 m...          0  \n",
       "3  I was looking for an inexpensive desk calcolat...          1  \n",
       "4  I only use it twice a week and the results are...          1  "
      ]
     },
     "execution_count": 264,
     "metadata": {},
     "output_type": "execute_result"
    }
   ],
   "source": [
    "df.head()"
   ]
  },
  {
   "cell_type": "code",
   "execution_count": 265,
   "metadata": {},
   "outputs": [],
   "source": [
    "#Removing ratings with rating = 3 (\"On the fence\")\n",
    "# df = df.loc[:, ['review_body', 'star_rating']]\n",
    "# df = df.query('star_rating != 3.0')\n",
    "# df.head()"
   ]
  },
  {
   "cell_type": "markdown",
   "metadata": {},
   "source": [
    "### 2. Preliminary EDA"
   ]
  },
  {
   "cell_type": "code",
   "execution_count": 278,
   "metadata": {},
   "outputs": [
    {
     "name": "stdout",
     "output_type": "stream",
     "text": [
      "5    12210\n",
      "4     3973\n",
      "3     1868\n",
      "1     1757\n",
      "2     1192\n",
      "Name: rating, dtype: int64\n"
     ]
    },
    {
     "data": {
      "image/png": "[encoded data removed]",
      "text/plain": [
       "<Figure size 432x288 with 1 Axes>"
      ]
     },
     "metadata": {},
     "output_type": "display_data"
    }
   ],
   "source": [
    "sns.countplot(x='rating', data=df)\n",
    "plt.title('Rating Class Imbalance', size=15)\n",
    "print(df['rating'].value_counts())"
   ]
  },
  {
   "cell_type": "code",
   "execution_count": 275,
   "metadata": {},
   "outputs": [
    {
     "name": "stdout",
     "output_type": "stream",
     "text": [
      "1    16183\n",
      "0     4817\n",
      "Name: sentiment, dtype: int64\n"
     ]
    },
    {
     "data": {
      "image/png": "[encoded data removed]",
      "text/plain": [
       "<Figure size 432x288 with 1 Axes>"
      ]
     },
     "metadata": {},
     "output_type": "display_data"
    }
   ],
   "source": [
    "sns.countplot(x='sentiment', data=df)\n",
    "plt.title('Sentiment Class Imbalance', size=15)\n",
    "print(df['sentiment'].value_counts())"
   ]
  },
  {
   "cell_type": "code",
   "execution_count": 280,
   "metadata": {},
   "outputs": [
    {
     "name": "stdout",
     "output_type": "stream",
     "text": [
      "1    10500\n",
      "0    10500\n",
      "Name: falsified, dtype: int64\n"
     ]
    },
    {
     "data": {
      "image/png": "[encoded data removed]",
      "text/plain": [
       "<Figure size 432x288 with 1 Axes>"
      ]
     },
     "metadata": {},
     "output_type": "display_data"
    }
   ],
   "source": [
    "sns.countplot(x='falsified', data=df)\n",
    "plt.title('Falsified Class Balance', size=15)\n",
    "print(df['falsified'].value_counts())"
   ]
  },
  {
   "cell_type": "code",
   "execution_count": 145,
   "metadata": {},
   "outputs": [],
   "source": [
    "# df.query('falsified == 1')"
   ]
  },
  {
   "cell_type": "code",
   "execution_count": 146,
   "metadata": {},
   "outputs": [
    {
     "data": {
      "image/png": "[encoded data removed]",
      "text/plain": [
       "<Figure size 1080x360 with 1 Axes>"
      ]
     },
     "metadata": {
      "needs_background": "light"
     },
     "output_type": "display_data"
    }
   ],
   "source": [
    "from wordcloud import WordCloud, STOPWORDS\n",
    "\n",
    "def plot_wordcloud(text, mask=None, max_words=200, max_font_size=150, figure_size=(15.0,5.0), \n",
    "                   title = None, title_size=20, image_color=False):\n",
    "    stopwords = set(STOPWORDS)\n",
    "\n",
    "    wordcloud = WordCloud(background_color='gray',\n",
    "                    stopwords = stopwords,\n",
    "                    max_words = max_words,\n",
    "                    max_font_size = max_font_size, \n",
    "                    random_state = 50,\n",
    "                    width=800, \n",
    "                    height=400,\n",
    "                    mask = mask)\n",
    "    wordcloud.generate(str(text))\n",
    "    \n",
    "    plt.figure(figsize=figure_size)\n",
    "    if image_color:\n",
    "        image_colors = ImageColorGenerator(mask);\n",
    "        plt.imshow(wordcloud.recolor(color_func=image_colors), interpolation=\"bilinear\");\n",
    "        plt.title(title, fontdict={'size': title_size,  \n",
    "                                  'verticalalignment': 'bottom'})\n",
    "    else:\n",
    "        plt.imshow(wordcloud);\n",
    "        plt.title(title, fontdict={'size': title_size, 'color': 'black', \n",
    "                                  'verticalalignment': 'bottom'})\n",
    "    plt.axis('off');\n",
    "    plt.tight_layout()  \n",
    "    \n",
    "plot_wordcloud(df['review_text'], title=\"Word Cloud of Amazon Reviews\")"
   ]
  },
  {
   "cell_type": "code",
   "execution_count": 147,
   "metadata": {},
   "outputs": [],
   "source": [
    "# Let's clean out any html (should it exist)\n",
    "import bs4\n",
    "df['review_text'] = df['review_text'].apply(lambda x: bs4.BeautifulSoup(x, 'lxml').get_text())"
   ]
  },
  {
   "cell_type": "code",
   "execution_count": 148,
   "metadata": {},
   "outputs": [
    {
     "data": {
      "text/html": [
       "<div>\n",
       "<style scoped>\n",
       "    .dataframe tbody tr th:only-of-type {\n",
       "        vertical-align: middle;\n",
       "    }\n",
       "\n",
       "    .dataframe tbody tr th {\n",
       "        vertical-align: top;\n",
       "    }\n",
       "\n",
       "    .dataframe thead th {\n",
       "        text-align: right;\n",
       "    }\n",
       "</style>\n",
       "<table border=\"1\" class=\"dataframe\">\n",
       "  <thead>\n",
       "    <tr style=\"text-align: right;\">\n",
       "      <th></th>\n",
       "      <th>doc_id</th>\n",
       "      <th>falsified</th>\n",
       "      <th>rating</th>\n",
       "      <th>verified_purchase</th>\n",
       "      <th>product_category</th>\n",
       "      <th>product_id</th>\n",
       "      <th>product_title</th>\n",
       "      <th>review_title</th>\n",
       "      <th>review_text</th>\n",
       "      <th>sentiment</th>\n",
       "    </tr>\n",
       "  </thead>\n",
       "  <tbody>\n",
       "    <tr>\n",
       "      <th>0</th>\n",
       "      <td>1</td>\n",
       "      <td>1</td>\n",
       "      <td>4</td>\n",
       "      <td>0</td>\n",
       "      <td>PC</td>\n",
       "      <td>B00008NG7N</td>\n",
       "      <td>Targus PAUK10U Ultra Mini USB Keypad, Black</td>\n",
       "      <td>useful</td>\n",
       "      <td>When least you think so, this product will sav...</td>\n",
       "      <td>1</td>\n",
       "    </tr>\n",
       "    <tr>\n",
       "      <th>1</th>\n",
       "      <td>2</td>\n",
       "      <td>1</td>\n",
       "      <td>4</td>\n",
       "      <td>1</td>\n",
       "      <td>Wireless</td>\n",
       "      <td>B00LH0Y3NM</td>\n",
       "      <td>Note 3 Battery : Stalion Strength Replacement ...</td>\n",
       "      <td>New era for batteries</td>\n",
       "      <td>Lithium batteries are something new introduced...</td>\n",
       "      <td>1</td>\n",
       "    </tr>\n",
       "    <tr>\n",
       "      <th>2</th>\n",
       "      <td>3</td>\n",
       "      <td>1</td>\n",
       "      <td>3</td>\n",
       "      <td>0</td>\n",
       "      <td>Baby</td>\n",
       "      <td>B000I5UZ1Q</td>\n",
       "      <td>Fisher-Price Papasan Cradle Swing, Starlight</td>\n",
       "      <td>doesn't swing very well.</td>\n",
       "      <td>I purchased this swing for my baby. She is 6 m...</td>\n",
       "      <td>0</td>\n",
       "    </tr>\n",
       "    <tr>\n",
       "      <th>3</th>\n",
       "      <td>4</td>\n",
       "      <td>1</td>\n",
       "      <td>4</td>\n",
       "      <td>0</td>\n",
       "      <td>Office Products</td>\n",
       "      <td>B003822IRA</td>\n",
       "      <td>Casio MS-80B Standard Function Desktop Calculator</td>\n",
       "      <td>Great computing!</td>\n",
       "      <td>I was looking for an inexpensive desk calcolat...</td>\n",
       "      <td>1</td>\n",
       "    </tr>\n",
       "    <tr>\n",
       "      <th>4</th>\n",
       "      <td>5</td>\n",
       "      <td>1</td>\n",
       "      <td>4</td>\n",
       "      <td>0</td>\n",
       "      <td>Beauty</td>\n",
       "      <td>B00PWSAXAM</td>\n",
       "      <td>Shine Whitening - Zero Peroxide Teeth Whitenin...</td>\n",
       "      <td>Only use twice a week</td>\n",
       "      <td>I only use it twice a week and the results are...</td>\n",
       "      <td>1</td>\n",
       "    </tr>\n",
       "  </tbody>\n",
       "</table>\n",
       "</div>"
      ],
      "text/plain": [
       "   doc_id  falsified  rating  verified_purchase product_category  product_id  \\\n",
       "0       1          1       4                  0               PC  B00008NG7N   \n",
       "1       2          1       4                  1         Wireless  B00LH0Y3NM   \n",
       "2       3          1       3                  0             Baby  B000I5UZ1Q   \n",
       "3       4          1       4                  0  Office Products  B003822IRA   \n",
       "4       5          1       4                  0           Beauty  B00PWSAXAM   \n",
       "\n",
       "                                       product_title  \\\n",
       "0        Targus PAUK10U Ultra Mini USB Keypad, Black   \n",
       "1  Note 3 Battery : Stalion Strength Replacement ...   \n",
       "2       Fisher-Price Papasan Cradle Swing, Starlight   \n",
       "3  Casio MS-80B Standard Function Desktop Calculator   \n",
       "4  Shine Whitening - Zero Peroxide Teeth Whitenin...   \n",
       "\n",
       "               review_title  \\\n",
       "0                    useful   \n",
       "1     New era for batteries   \n",
       "2  doesn't swing very well.   \n",
       "3          Great computing!   \n",
       "4     Only use twice a week   \n",
       "\n",
       "                                         review_text  sentiment  \n",
       "0  When least you think so, this product will sav...          1  \n",
       "1  Lithium batteries are something new introduced...          1  \n",
       "2  I purchased this swing for my baby. She is 6 m...          0  \n",
       "3  I was looking for an inexpensive desk calcolat...          1  \n",
       "4  I only use it twice a week and the results are...          1  "
      ]
     },
     "execution_count": 148,
     "metadata": {},
     "output_type": "execute_result"
    }
   ],
   "source": [
    "df.head()"
   ]
  },
  {
   "cell_type": "code",
   "execution_count": 149,
   "metadata": {},
   "outputs": [],
   "source": [
    "df_clean = df"
   ]
  },
  {
   "cell_type": "code",
   "execution_count": 150,
   "metadata": {},
   "outputs": [],
   "source": [
    "df = df_clean"
   ]
  },
  {
   "cell_type": "markdown",
   "metadata": {},
   "source": [
    "### 3. Feature Extraction"
   ]
  },
  {
   "cell_type": "code",
   "execution_count": 151,
   "metadata": {},
   "outputs": [],
   "source": [
    "import string\n",
    "\n",
    "## Number of words in the text ##\n",
    "df[\"num_words_in_text\"] = df[\"review_text\"].apply(lambda x: len(str(x).split()))\n",
    "\n",
    "## Number of stopwords in the text ##\n",
    "df[\"num_stopwords\"] = df[\"review_text\"].apply(lambda x: len([w for w in str(x).lower().split() if w in STOPWORDS]))\n",
    "\n",
    "## Number of words in the text (not counting stopwords) ##\n",
    "df[\"num_words_in_text_no_stop\"] = df.apply(lambda x: x['num_words_in_text'] - x['num_stopwords'], axis=1)\n",
    "\n",
    "## Number of unique words in the text ##\n",
    "df[\"num_unique_words\"] = df[\"review_text\"].apply(lambda x: len(set(str(x).split())))\n",
    "\n",
    "## Average length of the words in the text ##\n",
    "df[\"mean_word_len\"] = df[\"review_text\"].apply(lambda x: np.mean([len(w) for w in str(x).split()]))\n",
    "\n",
    "## Number of characters in the text ##\n",
    "df[\"num_chars\"] = df[\"review_text\"].apply(lambda x: len(str(x)))\n",
    "\n",
    "## Number of punctuations in the text ##\n",
    "df[\"num_punctuations\"] = df['review_text'].apply(lambda x: len([c for c in str(x) if c in string.punctuation]))"
   ]
  },
  {
   "cell_type": "code",
   "execution_count": 152,
   "metadata": {},
   "outputs": [],
   "source": [
    "## Number of Scentences ##\n",
    "df[\"num_scentences_in_text\"] = df[\"review_text\"].apply(lambda x: textstat.sentence_count(x))\n",
    "\n",
    "## Flesch Reading Ease Formula ##\n",
    "df[\"flesch_ease\"] = df[\"review_text\"].apply(lambda x: textstat.flesch_reading_ease(x))\n",
    "\n",
    "## Flesh-Kincaid Grade Level ##\n",
    "df[\"flesch_kincaid_grade\"] = df[\"review_text\"].apply(lambda x: textstat.flesch_kincaid_grade(x))\n",
    "\n",
    "## Automated Readability Index ##\n",
    "df[\"automated_readability_index\"] = df[\"review_text\"].apply(lambda x: textstat.automated_readability_index(x))\n",
    "\n",
    "## Overall Readability Index ##\n",
    "df[\"overall_readability_index\"] = df[\"review_text\"].apply(lambda x: textstat.text_standard(x, float_output=True))"
   ]
  },
  {
   "cell_type": "code",
   "execution_count": 177,
   "metadata": {},
   "outputs": [
    {
     "data": {
      "text/html": [
       "<div>\n",
       "<style scoped>\n",
       "    .dataframe tbody tr th:only-of-type {\n",
       "        vertical-align: middle;\n",
       "    }\n",
       "\n",
       "    .dataframe tbody tr th {\n",
       "        vertical-align: top;\n",
       "    }\n",
       "\n",
       "    .dataframe thead th {\n",
       "        text-align: right;\n",
       "    }\n",
       "</style>\n",
       "<table border=\"1\" class=\"dataframe\">\n",
       "  <thead>\n",
       "    <tr style=\"text-align: right;\">\n",
       "      <th></th>\n",
       "      <th>doc_id</th>\n",
       "      <th>falsified</th>\n",
       "      <th>rating</th>\n",
       "      <th>verified_purchase</th>\n",
       "      <th>product_category</th>\n",
       "      <th>product_id</th>\n",
       "      <th>product_title</th>\n",
       "      <th>review_title</th>\n",
       "      <th>review_text</th>\n",
       "      <th>sentiment</th>\n",
       "      <th>...</th>\n",
       "      <th>num_words_in_text_no_stop</th>\n",
       "      <th>num_unique_words</th>\n",
       "      <th>mean_word_len</th>\n",
       "      <th>num_chars</th>\n",
       "      <th>num_punctuations</th>\n",
       "      <th>num_scentences_in_text</th>\n",
       "      <th>flesch_ease</th>\n",
       "      <th>flesch_kincaid_grade</th>\n",
       "      <th>automated_readability_index</th>\n",
       "      <th>overall_readability_index</th>\n",
       "    </tr>\n",
       "  </thead>\n",
       "  <tbody>\n",
       "    <tr>\n",
       "      <th>0</th>\n",
       "      <td>1</td>\n",
       "      <td>1</td>\n",
       "      <td>4</td>\n",
       "      <td>0</td>\n",
       "      <td>PC</td>\n",
       "      <td>B00008NG7N</td>\n",
       "      <td>Targus PAUK10U Ultra Mini USB Keypad, Black</td>\n",
       "      <td>useful</td>\n",
       "      <td>When least you think so, this product will sav...</td>\n",
       "      <td>1</td>\n",
       "      <td>...</td>\n",
       "      <td>12</td>\n",
       "      <td>21</td>\n",
       "      <td>4.09</td>\n",
       "      <td>116</td>\n",
       "      <td>3</td>\n",
       "      <td>2</td>\n",
       "      <td>102.10</td>\n",
       "      <td>1.90</td>\n",
       "      <td>3.60</td>\n",
       "      <td>5.00</td>\n",
       "    </tr>\n",
       "  </tbody>\n",
       "</table>\n",
       "<p>1 rows × 22 columns</p>\n",
       "</div>"
      ],
      "text/plain": [
       "   doc_id  falsified  rating  verified_purchase product_category  product_id  \\\n",
       "0       1          1       4                  0               PC  B00008NG7N   \n",
       "\n",
       "                                 product_title review_title  \\\n",
       "0  Targus PAUK10U Ultra Mini USB Keypad, Black       useful   \n",
       "\n",
       "                                         review_text  sentiment  ...  \\\n",
       "0  When least you think so, this product will sav...          1  ...   \n",
       "\n",
       "   num_words_in_text_no_stop  num_unique_words  mean_word_len  num_chars  \\\n",
       "0                         12                21           4.09        116   \n",
       "\n",
       "   num_punctuations  num_scentences_in_text  flesch_ease  \\\n",
       "0                 3                       2       102.10   \n",
       "\n",
       "   flesch_kincaid_grade  automated_readability_index  \\\n",
       "0                  1.90                         3.60   \n",
       "\n",
       "   overall_readability_index  \n",
       "0                       5.00  \n",
       "\n",
       "[1 rows x 22 columns]"
      ]
     },
     "execution_count": 177,
     "metadata": {},
     "output_type": "execute_result"
    }
   ],
   "source": [
    "df.head(1)"
   ]
  },
  {
   "cell_type": "code",
   "execution_count": 178,
   "metadata": {},
   "outputs": [
    {
     "data": {
      "text/html": [
       "<div>\n",
       "<style scoped>\n",
       "    .dataframe tbody tr th:only-of-type {\n",
       "        vertical-align: middle;\n",
       "    }\n",
       "\n",
       "    .dataframe tbody tr th {\n",
       "        vertical-align: top;\n",
       "    }\n",
       "\n",
       "    .dataframe thead th {\n",
       "        text-align: right;\n",
       "    }\n",
       "</style>\n",
       "<table border=\"1\" class=\"dataframe\">\n",
       "  <thead>\n",
       "    <tr style=\"text-align: right;\">\n",
       "      <th></th>\n",
       "      <th>count</th>\n",
       "      <th>mean</th>\n",
       "      <th>std</th>\n",
       "      <th>min</th>\n",
       "      <th>25%</th>\n",
       "      <th>50%</th>\n",
       "      <th>75%</th>\n",
       "      <th>max</th>\n",
       "    </tr>\n",
       "  </thead>\n",
       "  <tbody>\n",
       "    <tr>\n",
       "      <th>doc_id</th>\n",
       "      <td>21000.00</td>\n",
       "      <td>10500.50</td>\n",
       "      <td>6062.32</td>\n",
       "      <td>1.00</td>\n",
       "      <td>5250.75</td>\n",
       "      <td>10500.50</td>\n",
       "      <td>15750.25</td>\n",
       "      <td>21000.00</td>\n",
       "    </tr>\n",
       "    <tr>\n",
       "      <th>falsified</th>\n",
       "      <td>21000.00</td>\n",
       "      <td>0.50</td>\n",
       "      <td>0.50</td>\n",
       "      <td>0.00</td>\n",
       "      <td>0.00</td>\n",
       "      <td>0.50</td>\n",
       "      <td>1.00</td>\n",
       "      <td>1.00</td>\n",
       "    </tr>\n",
       "    <tr>\n",
       "      <th>rating</th>\n",
       "      <td>21000.00</td>\n",
       "      <td>4.13</td>\n",
       "      <td>1.28</td>\n",
       "      <td>1.00</td>\n",
       "      <td>4.00</td>\n",
       "      <td>5.00</td>\n",
       "      <td>5.00</td>\n",
       "      <td>5.00</td>\n",
       "    </tr>\n",
       "    <tr>\n",
       "      <th>verified_purchase</th>\n",
       "      <td>21000.00</td>\n",
       "      <td>0.56</td>\n",
       "      <td>0.50</td>\n",
       "      <td>0.00</td>\n",
       "      <td>0.00</td>\n",
       "      <td>1.00</td>\n",
       "      <td>1.00</td>\n",
       "      <td>1.00</td>\n",
       "    </tr>\n",
       "    <tr>\n",
       "      <th>sentiment</th>\n",
       "      <td>21000.00</td>\n",
       "      <td>0.77</td>\n",
       "      <td>0.42</td>\n",
       "      <td>0.00</td>\n",
       "      <td>1.00</td>\n",
       "      <td>1.00</td>\n",
       "      <td>1.00</td>\n",
       "      <td>1.00</td>\n",
       "    </tr>\n",
       "    <tr>\n",
       "      <th>num_words_in_text</th>\n",
       "      <td>21000.00</td>\n",
       "      <td>68.45</td>\n",
       "      <td>84.25</td>\n",
       "      <td>1.00</td>\n",
       "      <td>29.00</td>\n",
       "      <td>44.00</td>\n",
       "      <td>73.00</td>\n",
       "      <td>2805.00</td>\n",
       "    </tr>\n",
       "    <tr>\n",
       "      <th>num_stopwords</th>\n",
       "      <td>21000.00</td>\n",
       "      <td>34.00</td>\n",
       "      <td>40.97</td>\n",
       "      <td>0.00</td>\n",
       "      <td>14.00</td>\n",
       "      <td>23.00</td>\n",
       "      <td>37.00</td>\n",
       "      <td>1423.00</td>\n",
       "    </tr>\n",
       "    <tr>\n",
       "      <th>num_words_in_text_no_stop</th>\n",
       "      <td>21000.00</td>\n",
       "      <td>34.45</td>\n",
       "      <td>43.98</td>\n",
       "      <td>1.00</td>\n",
       "      <td>15.00</td>\n",
       "      <td>22.00</td>\n",
       "      <td>36.00</td>\n",
       "      <td>1382.00</td>\n",
       "    </tr>\n",
       "    <tr>\n",
       "      <th>num_unique_words</th>\n",
       "      <td>21000.00</td>\n",
       "      <td>51.27</td>\n",
       "      <td>46.06</td>\n",
       "      <td>1.00</td>\n",
       "      <td>26.00</td>\n",
       "      <td>38.00</td>\n",
       "      <td>57.00</td>\n",
       "      <td>992.00</td>\n",
       "    </tr>\n",
       "    <tr>\n",
       "      <th>mean_word_len</th>\n",
       "      <td>21000.00</td>\n",
       "      <td>4.35</td>\n",
       "      <td>0.73</td>\n",
       "      <td>3.09</td>\n",
       "      <td>4.06</td>\n",
       "      <td>4.30</td>\n",
       "      <td>4.58</td>\n",
       "      <td>64.00</td>\n",
       "    </tr>\n",
       "    <tr>\n",
       "      <th>num_chars</th>\n",
       "      <td>21000.00</td>\n",
       "      <td>367.36</td>\n",
       "      <td>469.50</td>\n",
       "      <td>62.00</td>\n",
       "      <td>155.00</td>\n",
       "      <td>234.00</td>\n",
       "      <td>385.00</td>\n",
       "      <td>15936.00</td>\n",
       "    </tr>\n",
       "    <tr>\n",
       "      <th>num_punctuations</th>\n",
       "      <td>21000.00</td>\n",
       "      <td>10.39</td>\n",
       "      <td>15.05</td>\n",
       "      <td>0.00</td>\n",
       "      <td>4.00</td>\n",
       "      <td>6.00</td>\n",
       "      <td>11.00</td>\n",
       "      <td>434.00</td>\n",
       "    </tr>\n",
       "    <tr>\n",
       "      <th>num_scentences_in_text</th>\n",
       "      <td>21000.00</td>\n",
       "      <td>3.40</td>\n",
       "      <td>3.45</td>\n",
       "      <td>1.00</td>\n",
       "      <td>1.00</td>\n",
       "      <td>3.00</td>\n",
       "      <td>4.00</td>\n",
       "      <td>103.00</td>\n",
       "    </tr>\n",
       "    <tr>\n",
       "      <th>flesch_ease</th>\n",
       "      <td>21000.00</td>\n",
       "      <td>66.33</td>\n",
       "      <td>44.26</td>\n",
       "      <td>-1909.19</td>\n",
       "      <td>61.02</td>\n",
       "      <td>75.69</td>\n",
       "      <td>85.39</td>\n",
       "      <td>116.35</td>\n",
       "    </tr>\n",
       "    <tr>\n",
       "      <th>flesch_kincaid_grade</th>\n",
       "      <td>21000.00</td>\n",
       "      <td>10.80</td>\n",
       "      <td>15.32</td>\n",
       "      <td>-1.60</td>\n",
       "      <td>4.50</td>\n",
       "      <td>6.90</td>\n",
       "      <td>11.10</td>\n",
       "      <td>532.10</td>\n",
       "    </tr>\n",
       "    <tr>\n",
       "      <th>automated_readability_index</th>\n",
       "      <td>21000.00</td>\n",
       "      <td>12.82</td>\n",
       "      <td>19.49</td>\n",
       "      <td>-2.10</td>\n",
       "      <td>4.90</td>\n",
       "      <td>7.90</td>\n",
       "      <td>13.20</td>\n",
       "      <td>681.90</td>\n",
       "    </tr>\n",
       "    <tr>\n",
       "      <th>overall_readability_index</th>\n",
       "      <td>21000.00</td>\n",
       "      <td>9.04</td>\n",
       "      <td>10.56</td>\n",
       "      <td>-1.00</td>\n",
       "      <td>6.00</td>\n",
       "      <td>7.00</td>\n",
       "      <td>9.00</td>\n",
       "      <td>445.00</td>\n",
       "    </tr>\n",
       "  </tbody>\n",
       "</table>\n",
       "</div>"
      ],
      "text/plain": [
       "                               count     mean     std      min     25%  \\\n",
       "doc_id                      21000.00 10500.50 6062.32     1.00 5250.75   \n",
       "falsified                   21000.00     0.50    0.50     0.00    0.00   \n",
       "rating                      21000.00     4.13    1.28     1.00    4.00   \n",
       "verified_purchase           21000.00     0.56    0.50     0.00    0.00   \n",
       "sentiment                   21000.00     0.77    0.42     0.00    1.00   \n",
       "num_words_in_text           21000.00    68.45   84.25     1.00   29.00   \n",
       "num_stopwords               21000.00    34.00   40.97     0.00   14.00   \n",
       "num_words_in_text_no_stop   21000.00    34.45   43.98     1.00   15.00   \n",
       "num_unique_words            21000.00    51.27   46.06     1.00   26.00   \n",
       "mean_word_len               21000.00     4.35    0.73     3.09    4.06   \n",
       "num_chars                   21000.00   367.36  469.50    62.00  155.00   \n",
       "num_punctuations            21000.00    10.39   15.05     0.00    4.00   \n",
       "num_scentences_in_text      21000.00     3.40    3.45     1.00    1.00   \n",
       "flesch_ease                 21000.00    66.33   44.26 -1909.19   61.02   \n",
       "flesch_kincaid_grade        21000.00    10.80   15.32    -1.60    4.50   \n",
       "automated_readability_index 21000.00    12.82   19.49    -2.10    4.90   \n",
       "overall_readability_index   21000.00     9.04   10.56    -1.00    6.00   \n",
       "\n",
       "                                 50%      75%      max  \n",
       "doc_id                      10500.50 15750.25 21000.00  \n",
       "falsified                       0.50     1.00     1.00  \n",
       "rating                          5.00     5.00     5.00  \n",
       "verified_purchase               1.00     1.00     1.00  \n",
       "sentiment                       1.00     1.00     1.00  \n",
       "num_words_in_text              44.00    73.00  2805.00  \n",
       "num_stopwords                  23.00    37.00  1423.00  \n",
       "num_words_in_text_no_stop      22.00    36.00  1382.00  \n",
       "num_unique_words               38.00    57.00   992.00  \n",
       "mean_word_len                   4.30     4.58    64.00  \n",
       "num_chars                     234.00   385.00 15936.00  \n",
       "num_punctuations                6.00    11.00   434.00  \n",
       "num_scentences_in_text          3.00     4.00   103.00  \n",
       "flesch_ease                    75.69    85.39   116.35  \n",
       "flesch_kincaid_grade            6.90    11.10   532.10  \n",
       "automated_readability_index     7.90    13.20   681.90  \n",
       "overall_readability_index       7.00     9.00   445.00  "
      ]
     },
     "execution_count": 178,
     "metadata": {},
     "output_type": "execute_result"
    }
   ],
   "source": [
    "df.describe().transpose()"
   ]
  },
  {
   "cell_type": "code",
   "execution_count": 209,
   "metadata": {},
   "outputs": [],
   "source": [
    "## Truncate some extreme values for better visuals, think about balancing positive vs negative reviews ##\n",
    "df_final = df.query('num_words_in_text <= 500 and num_punctuations < 300')"
   ]
  },
  {
   "cell_type": "code",
   "execution_count": 210,
   "metadata": {},
   "outputs": [
    {
     "data": {
      "text/html": [
       "<div>\n",
       "<style scoped>\n",
       "    .dataframe tbody tr th:only-of-type {\n",
       "        vertical-align: middle;\n",
       "    }\n",
       "\n",
       "    .dataframe tbody tr th {\n",
       "        vertical-align: top;\n",
       "    }\n",
       "\n",
       "    .dataframe thead th {\n",
       "        text-align: right;\n",
       "    }\n",
       "</style>\n",
       "<table border=\"1\" class=\"dataframe\">\n",
       "  <thead>\n",
       "    <tr style=\"text-align: right;\">\n",
       "      <th></th>\n",
       "      <th>count</th>\n",
       "      <th>mean</th>\n",
       "      <th>std</th>\n",
       "      <th>min</th>\n",
       "      <th>25%</th>\n",
       "      <th>50%</th>\n",
       "      <th>75%</th>\n",
       "      <th>max</th>\n",
       "    </tr>\n",
       "  </thead>\n",
       "  <tbody>\n",
       "    <tr>\n",
       "      <th>doc_id</th>\n",
       "      <td>20862.00</td>\n",
       "      <td>10488.65</td>\n",
       "      <td>6070.71</td>\n",
       "      <td>1.00</td>\n",
       "      <td>5226.25</td>\n",
       "      <td>10455.50</td>\n",
       "      <td>15754.75</td>\n",
       "      <td>21000.00</td>\n",
       "    </tr>\n",
       "    <tr>\n",
       "      <th>falsified</th>\n",
       "      <td>20862.00</td>\n",
       "      <td>0.50</td>\n",
       "      <td>0.50</td>\n",
       "      <td>0.00</td>\n",
       "      <td>0.00</td>\n",
       "      <td>1.00</td>\n",
       "      <td>1.00</td>\n",
       "      <td>1.00</td>\n",
       "    </tr>\n",
       "    <tr>\n",
       "      <th>rating</th>\n",
       "      <td>20862.00</td>\n",
       "      <td>4.13</td>\n",
       "      <td>1.28</td>\n",
       "      <td>1.00</td>\n",
       "      <td>4.00</td>\n",
       "      <td>5.00</td>\n",
       "      <td>5.00</td>\n",
       "      <td>5.00</td>\n",
       "    </tr>\n",
       "    <tr>\n",
       "      <th>verified_purchase</th>\n",
       "      <td>20862.00</td>\n",
       "      <td>0.56</td>\n",
       "      <td>0.50</td>\n",
       "      <td>0.00</td>\n",
       "      <td>0.00</td>\n",
       "      <td>1.00</td>\n",
       "      <td>1.00</td>\n",
       "      <td>1.00</td>\n",
       "    </tr>\n",
       "    <tr>\n",
       "      <th>sentiment</th>\n",
       "      <td>20862.00</td>\n",
       "      <td>0.77</td>\n",
       "      <td>0.42</td>\n",
       "      <td>0.00</td>\n",
       "      <td>1.00</td>\n",
       "      <td>1.00</td>\n",
       "      <td>1.00</td>\n",
       "      <td>1.00</td>\n",
       "    </tr>\n",
       "    <tr>\n",
       "      <th>num_words_in_text</th>\n",
       "      <td>20862.00</td>\n",
       "      <td>64.05</td>\n",
       "      <td>60.61</td>\n",
       "      <td>1.00</td>\n",
       "      <td>29.00</td>\n",
       "      <td>44.00</td>\n",
       "      <td>72.00</td>\n",
       "      <td>500.00</td>\n",
       "    </tr>\n",
       "    <tr>\n",
       "      <th>num_stopwords</th>\n",
       "      <td>20862.00</td>\n",
       "      <td>31.94</td>\n",
       "      <td>30.20</td>\n",
       "      <td>0.00</td>\n",
       "      <td>14.00</td>\n",
       "      <td>22.00</td>\n",
       "      <td>37.00</td>\n",
       "      <td>255.00</td>\n",
       "    </tr>\n",
       "    <tr>\n",
       "      <th>num_words_in_text_no_stop</th>\n",
       "      <td>20862.00</td>\n",
       "      <td>32.12</td>\n",
       "      <td>31.14</td>\n",
       "      <td>1.00</td>\n",
       "      <td>15.00</td>\n",
       "      <td>22.00</td>\n",
       "      <td>35.00</td>\n",
       "      <td>339.00</td>\n",
       "    </tr>\n",
       "    <tr>\n",
       "      <th>num_unique_words</th>\n",
       "      <td>20862.00</td>\n",
       "      <td>49.09</td>\n",
       "      <td>36.55</td>\n",
       "      <td>1.00</td>\n",
       "      <td>26.00</td>\n",
       "      <td>38.00</td>\n",
       "      <td>57.00</td>\n",
       "      <td>319.00</td>\n",
       "    </tr>\n",
       "    <tr>\n",
       "      <th>mean_word_len</th>\n",
       "      <td>20862.00</td>\n",
       "      <td>4.35</td>\n",
       "      <td>0.73</td>\n",
       "      <td>3.09</td>\n",
       "      <td>4.06</td>\n",
       "      <td>4.30</td>\n",
       "      <td>4.57</td>\n",
       "      <td>64.00</td>\n",
       "    </tr>\n",
       "    <tr>\n",
       "      <th>num_chars</th>\n",
       "      <td>20862.00</td>\n",
       "      <td>342.57</td>\n",
       "      <td>332.56</td>\n",
       "      <td>62.00</td>\n",
       "      <td>155.00</td>\n",
       "      <td>233.00</td>\n",
       "      <td>380.00</td>\n",
       "      <td>3169.00</td>\n",
       "    </tr>\n",
       "    <tr>\n",
       "      <th>num_punctuations</th>\n",
       "      <td>20862.00</td>\n",
       "      <td>9.65</td>\n",
       "      <td>10.96</td>\n",
       "      <td>0.00</td>\n",
       "      <td>4.00</td>\n",
       "      <td>6.00</td>\n",
       "      <td>11.00</td>\n",
       "      <td>197.00</td>\n",
       "    </tr>\n",
       "    <tr>\n",
       "      <th>num_scentences_in_text</th>\n",
       "      <td>20862.00</td>\n",
       "      <td>3.27</td>\n",
       "      <td>2.70</td>\n",
       "      <td>1.00</td>\n",
       "      <td>1.00</td>\n",
       "      <td>3.00</td>\n",
       "      <td>4.00</td>\n",
       "      <td>36.00</td>\n",
       "    </tr>\n",
       "    <tr>\n",
       "      <th>flesch_ease</th>\n",
       "      <td>20862.00</td>\n",
       "      <td>66.96</td>\n",
       "      <td>39.76</td>\n",
       "      <td>-1909.19</td>\n",
       "      <td>61.33</td>\n",
       "      <td>75.74</td>\n",
       "      <td>85.52</td>\n",
       "      <td>116.35</td>\n",
       "    </tr>\n",
       "    <tr>\n",
       "      <th>flesch_kincaid_grade</th>\n",
       "      <td>20862.00</td>\n",
       "      <td>10.57</td>\n",
       "      <td>13.39</td>\n",
       "      <td>-1.60</td>\n",
       "      <td>4.50</td>\n",
       "      <td>6.90</td>\n",
       "      <td>11.10</td>\n",
       "      <td>279.80</td>\n",
       "    </tr>\n",
       "    <tr>\n",
       "      <th>automated_readability_index</th>\n",
       "      <td>20862.00</td>\n",
       "      <td>12.52</td>\n",
       "      <td>16.99</td>\n",
       "      <td>-2.10</td>\n",
       "      <td>4.90</td>\n",
       "      <td>7.80</td>\n",
       "      <td>13.10</td>\n",
       "      <td>280.50</td>\n",
       "    </tr>\n",
       "    <tr>\n",
       "      <th>overall_readability_index</th>\n",
       "      <td>20862.00</td>\n",
       "      <td>8.92</td>\n",
       "      <td>9.25</td>\n",
       "      <td>-1.00</td>\n",
       "      <td>6.00</td>\n",
       "      <td>7.00</td>\n",
       "      <td>9.00</td>\n",
       "      <td>280.00</td>\n",
       "    </tr>\n",
       "  </tbody>\n",
       "</table>\n",
       "</div>"
      ],
      "text/plain": [
       "                               count     mean     std      min     25%  \\\n",
       "doc_id                      20862.00 10488.65 6070.71     1.00 5226.25   \n",
       "falsified                   20862.00     0.50    0.50     0.00    0.00   \n",
       "rating                      20862.00     4.13    1.28     1.00    4.00   \n",
       "verified_purchase           20862.00     0.56    0.50     0.00    0.00   \n",
       "sentiment                   20862.00     0.77    0.42     0.00    1.00   \n",
       "num_words_in_text           20862.00    64.05   60.61     1.00   29.00   \n",
       "num_stopwords               20862.00    31.94   30.20     0.00   14.00   \n",
       "num_words_in_text_no_stop   20862.00    32.12   31.14     1.00   15.00   \n",
       "num_unique_words            20862.00    49.09   36.55     1.00   26.00   \n",
       "mean_word_len               20862.00     4.35    0.73     3.09    4.06   \n",
       "num_chars                   20862.00   342.57  332.56    62.00  155.00   \n",
       "num_punctuations            20862.00     9.65   10.96     0.00    4.00   \n",
       "num_scentences_in_text      20862.00     3.27    2.70     1.00    1.00   \n",
       "flesch_ease                 20862.00    66.96   39.76 -1909.19   61.33   \n",
       "flesch_kincaid_grade        20862.00    10.57   13.39    -1.60    4.50   \n",
       "automated_readability_index 20862.00    12.52   16.99    -2.10    4.90   \n",
       "overall_readability_index   20862.00     8.92    9.25    -1.00    6.00   \n",
       "\n",
       "                                 50%      75%      max  \n",
       "doc_id                      10455.50 15754.75 21000.00  \n",
       "falsified                       1.00     1.00     1.00  \n",
       "rating                          5.00     5.00     5.00  \n",
       "verified_purchase               1.00     1.00     1.00  \n",
       "sentiment                       1.00     1.00     1.00  \n",
       "num_words_in_text              44.00    72.00   500.00  \n",
       "num_stopwords                  22.00    37.00   255.00  \n",
       "num_words_in_text_no_stop      22.00    35.00   339.00  \n",
       "num_unique_words               38.00    57.00   319.00  \n",
       "mean_word_len                   4.30     4.57    64.00  \n",
       "num_chars                     233.00   380.00  3169.00  \n",
       "num_punctuations                6.00    11.00   197.00  \n",
       "num_scentences_in_text          3.00     4.00    36.00  \n",
       "flesch_ease                    75.74    85.52   116.35  \n",
       "flesch_kincaid_grade            6.90    11.10   279.80  \n",
       "automated_readability_index     7.80    13.10   280.50  \n",
       "overall_readability_index       7.00     9.00   280.00  "
      ]
     },
     "execution_count": 210,
     "metadata": {},
     "output_type": "execute_result"
    }
   ],
   "source": [
    "df_final.describe().transpose()"
   ]
  },
  {
   "cell_type": "code",
   "execution_count": 211,
   "metadata": {},
   "outputs": [],
   "source": [
    "df_final.to_csv('df_final.csv');"
   ]
  },
  {
   "cell_type": "code",
   "execution_count": 109,
   "metadata": {},
   "outputs": [],
   "source": [
    "# # Using recurrent neural tensor networks (RNTNs) to determine each scentence sentiment.\n",
    "# # 𝑇𝑜𝑡𝑎𝑙 𝑆𝑒𝑛𝑡𝑖𝑚𝑒𝑛𝑡 = 1 ∗ (𝑉𝑒𝑟𝑦 𝑁𝑒𝑔𝑎𝑡𝑖𝑣𝑒) + 2 ∗ (𝑁𝑒𝑔𝑎𝑡𝑖𝑣𝑒) + 3 ∗ (𝑁𝑒𝑢𝑡𝑟𝑎𝑙) + 4 ∗ (𝑃𝑜𝑠𝑖𝑡𝑖𝑣𝑒) + 5 ∗ (𝑉𝑒𝑟𝑦 𝑃𝑜𝑠𝑖𝑡𝑖𝑣𝑒)\n",
    "\n",
    "# df_mini = df([['doc_id','review_body']])\n",
    "\n",
    "# def get_total_sentiment(value):\n",
    "#     if value > 3:\n",
    "#         return 1\n",
    "#     else:\n",
    "#         return 0\n",
    "    \n",
    "# df['total_sentiment'] = df['review_text'].apply(get_sentiment)"
   ]
  },
  {
   "cell_type": "markdown",
   "metadata": {},
   "source": [
    "### 4. Corrolation Check and VIF Check"
   ]
  },
  {
   "cell_type": "code",
   "execution_count": null,
   "metadata": {},
   "outputs": [],
   "source": [
    "df_numerical = df[['falsified','rating','verified_purchase','sentiment','num_words_in_text','num_stopwords',\\\n",
    "                  'num_words_in_text_no_stop', 'num_unique_words', 'mean_word_len','num_chars',\\\n",
    "                  'num_punctuations','num_scentences_in_text', 'flesch_ease', 'flesch_kincaid_grade',\\\n",
    "                  'automated_readability_index','overall_readability_index']]"
   ]
  },
  {
   "cell_type": "code",
   "execution_count": 365,
   "metadata": {},
   "outputs": [
    {
     "data": {
      "text/plain": [
       "<matplotlib.axes._subplots.AxesSubplot at 0x1a40f750d0>"
      ]
     },
     "execution_count": 365,
     "metadata": {},
     "output_type": "execute_result"
    },
    {
     "data": {
      "image/png": "[encoded data removed]",
      "text/plain": [
       "<Figure size 792x648 with 2 Axes>"
      ]
     },
     "metadata": {},
     "output_type": "display_data"
    }
   ],
   "source": [
    "from string import ascii_letters\n",
    "import numpy as np\n",
    "import pandas as pd\n",
    "import seaborn as sns\n",
    "import matplotlib.pyplot as plt\n",
    "\n",
    "#df_corr = df_numerical\n",
    "df_corr = low_vif_df_numerical\n",
    "\n",
    "sns.set(style=\"white\")\n",
    "\n",
    "# Compute the correlation matrix\n",
    "corr = df_corr.corr()\n",
    "\n",
    "# Generate a mask for the upper triangle\n",
    "mask = np.triu(np.ones_like(corr, dtype=np.bool))\n",
    "\n",
    "# Set up the matplotlib figure\n",
    "f, ax = plt.subplots(figsize=(11, 9))\n",
    "\n",
    "# Generate a custom diverging colormap\n",
    "cmap = sns.diverging_palette(220, 10, as_cmap=True)\n",
    "\n",
    "# Draw the heatmap with the mask and correct aspect ratio\n",
    "sns.heatmap(corr, mask=mask, cmap=cmap, vmax=.5, center=0, square=True, linewidths=.5, cbar_kws={\"shrink\": .5}, annot=corr)"
   ]
  },
  {
   "cell_type": "code",
   "execution_count": 338,
   "metadata": {},
   "outputs": [
    {
     "data": {
      "text/html": [
       "<div>\n",
       "<style scoped>\n",
       "    .dataframe tbody tr th:only-of-type {\n",
       "        vertical-align: middle;\n",
       "    }\n",
       "\n",
       "    .dataframe tbody tr th {\n",
       "        vertical-align: top;\n",
       "    }\n",
       "\n",
       "    .dataframe thead th {\n",
       "        text-align: right;\n",
       "    }\n",
       "</style>\n",
       "<table border=\"1\" class=\"dataframe\">\n",
       "  <thead>\n",
       "    <tr style=\"text-align: right;\">\n",
       "      <th></th>\n",
       "      <th>VIF Value</th>\n",
       "    </tr>\n",
       "  </thead>\n",
       "  <tbody>\n",
       "    <tr>\n",
       "      <th>falsified</th>\n",
       "      <td>2.97</td>\n",
       "    </tr>\n",
       "    <tr>\n",
       "      <th>verified_purchase</th>\n",
       "      <td>3.29</td>\n",
       "    </tr>\n",
       "    <tr>\n",
       "      <th>sentiment</th>\n",
       "      <td>4.23</td>\n",
       "    </tr>\n",
       "    <tr>\n",
       "      <th>num_punctuations</th>\n",
       "      <td>5.06</td>\n",
       "    </tr>\n",
       "    <tr>\n",
       "      <th>num_scentences_in_text</th>\n",
       "      <td>5.79</td>\n",
       "    </tr>\n",
       "    <tr>\n",
       "      <th>flesch_ease</th>\n",
       "      <td>6.93</td>\n",
       "    </tr>\n",
       "    <tr>\n",
       "      <th>flesch_kincaid_grade</th>\n",
       "      <td>5.25</td>\n",
       "    </tr>\n",
       "    <tr>\n",
       "      <th>overall_readability_index</th>\n",
       "      <td>2.88</td>\n",
       "    </tr>\n",
       "  </tbody>\n",
       "</table>\n",
       "</div>"
      ],
      "text/plain": [
       "                           VIF Value\n",
       "falsified                       2.97\n",
       "verified_purchase               3.29\n",
       "sentiment                       4.23\n",
       "num_punctuations                5.06\n",
       "num_scentences_in_text          5.79\n",
       "flesch_ease                     6.93\n",
       "flesch_kincaid_grade            5.25\n",
       "overall_readability_index       2.88"
      ]
     },
     "execution_count": 338,
     "metadata": {},
     "output_type": "execute_result"
    }
   ],
   "source": [
    "from statsmodels.stats.outliers_influence import variance_inflation_factor\n",
    "import statsmodels.api as sm\n",
    "\n",
    "vif_df_numerical = df_numerical\n",
    "\n",
    "#Lets take a look at the Varience Inflation Factor on ONLY low corrolated columns\n",
    "VIF = []\n",
    "\n",
    "vif_df_numerical = vif_df_numerical.drop('num_words_in_text', axis=1)\n",
    "vif_df_numerical = vif_df_numerical.drop('num_stopwords', axis=1)\n",
    "vif_df_numerical = vif_df_numerical.drop('num_words_in_text_no_stop', axis=1)\n",
    "vif_df_numerical = vif_df_numerical.drop('automated_readability_index', axis=1)\n",
    "vif_df_numerical = vif_df_numerical.drop('num_unique_words', axis=1)\n",
    "vif_df_numerical = vif_df_numerical.drop('mean_word_len', axis=1)\n",
    "vif_df_numerical = vif_df_numerical.drop('rating', axis=1)\n",
    "vif_df_numerical = vif_df_numerical.drop('num_chars', axis=1)\n",
    "\n",
    "for i in vif_df_numerical:\n",
    "    X = vif_df_numerical[[\n",
    "        'falsified',\n",
    "        #'rating',\n",
    "        'verified_purchase',\n",
    "        'sentiment',\n",
    "        #'num_words_in_text',\n",
    "        #'num_stopwords',\n",
    "        #'num_words_in_text_no_stop', \n",
    "        #'num_unique_words', \n",
    "        #'mean_word_len',\n",
    "        #'num_chars',\n",
    "        'num_punctuations',\n",
    "        'num_scentences_in_text', \n",
    "        'flesch_ease', \n",
    "        'flesch_kincaid_grade',\n",
    "        #'automated_readability_index',\n",
    "        'overall_readability_index'\n",
    "        ]]\n",
    "    \n",
    "    low_vif_df_numerical = X\n",
    "    y = vif_df_numerical['sentiment']\n",
    "    \n",
    "    X_withconst = sm.add_constant(X)\n",
    "    \n",
    "    #Lets store our results\n",
    "    VIF = pd.Series([variance_inflation_factor(X.values, i) \n",
    "        for i in range(X.shape[1])],index=X.columns)\n",
    "    \n",
    "    #Lets make a pretty table to show our results\n",
    "    pd.options.display.float_format = '{:.2f}'.format\n",
    "    \n",
    "VIF_Frame = pd.DataFrame(VIF, columns=['VIF Value'])\n",
    "\n",
    "VIF_Frame"
   ]
  },
  {
   "cell_type": "markdown",
   "metadata": {},
   "source": [
    "### 5. Preliminary Modeling"
   ]
  },
  {
   "cell_type": "code",
   "execution_count": 339,
   "metadata": {},
   "outputs": [],
   "source": [
    "import statsmodels.api as sm\n",
    "from sklearn.model_selection import train_test_split"
   ]
  },
  {
   "cell_type": "code",
   "execution_count": 340,
   "metadata": {},
   "outputs": [
    {
     "name": "stdout",
     "output_type": "stream",
     "text": [
      "Index(['doc_id', 'falsified', 'rating', 'verified_purchase',\n",
      "       'product_category', 'product_id', 'product_title', 'review_title',\n",
      "       'review_text', 'sentiment'],\n",
      "      dtype='object')\n"
     ]
    }
   ],
   "source": [
    "print(df.columns)"
   ]
  },
  {
   "cell_type": "code",
   "execution_count": 341,
   "metadata": {},
   "outputs": [
    {
     "name": "stdout",
     "output_type": "stream",
     "text": [
      "(21000,)\n",
      "(21000, 7)\n"
     ]
    }
   ],
   "source": [
    "y = low_vif_df_numerical['falsified']\n",
    "X = low_vif_df_numerical.drop(columns='falsified')\n",
    "\n",
    "X_train, X_test, y_train, y_test = train_test_split(X, y, test_size=0.2, random_state=1)\n",
    "\n",
    "print(y.shape)\n",
    "print(X.shape)"
   ]
  },
  {
   "cell_type": "code",
   "execution_count": 342,
   "metadata": {},
   "outputs": [
    {
     "name": "stdout",
     "output_type": "stream",
     "text": [
      "Optimization terminated successfully.\n",
      "         Current function value: 0.481039\n",
      "         Iterations 7\n"
     ]
    },
    {
     "data": {
      "text/html": [
       "<table class=\"simpletable\">\n",
       "<caption>Logit Regression Results</caption>\n",
       "<tr>\n",
       "  <th>Dep. Variable:</th>       <td>falsified</td>    <th>  No. Observations:  </th>  <td> 21000</td> \n",
       "</tr>\n",
       "<tr>\n",
       "  <th>Model:</th>                 <td>Logit</td>      <th>  Df Residuals:      </th>  <td> 20992</td> \n",
       "</tr>\n",
       "<tr>\n",
       "  <th>Method:</th>                 <td>MLE</td>       <th>  Df Model:          </th>  <td>     7</td> \n",
       "</tr>\n",
       "<tr>\n",
       "  <th>Date:</th>            <td>Fri, 19 Jun 2020</td> <th>  Pseudo R-squ.:     </th>  <td>0.3060</td> \n",
       "</tr>\n",
       "<tr>\n",
       "  <th>Time:</th>                <td>09:30:32</td>     <th>  Log-Likelihood:    </th> <td> -10102.</td>\n",
       "</tr>\n",
       "<tr>\n",
       "  <th>converged:</th>             <td>True</td>       <th>  LL-Null:           </th> <td> -14556.</td>\n",
       "</tr>\n",
       "<tr>\n",
       "  <th>Covariance Type:</th>     <td>nonrobust</td>    <th>  LLR p-value:       </th>  <td> 0.000</td> \n",
       "</tr>\n",
       "</table>\n",
       "<table class=\"simpletable\">\n",
       "<tr>\n",
       "              <td></td>                 <th>coef</th>     <th>std err</th>      <th>z</th>      <th>P>|z|</th>  <th>[0.025</th>    <th>0.975]</th>  \n",
       "</tr>\n",
       "<tr>\n",
       "  <th>const</th>                     <td>    2.7099</td> <td>    0.190</td> <td>   14.275</td> <td> 0.000</td> <td>    2.338</td> <td>    3.082</td>\n",
       "</tr>\n",
       "<tr>\n",
       "  <th>verified_purchase</th>         <td>   -2.8852</td> <td>    0.038</td> <td>  -75.173</td> <td> 0.000</td> <td>   -2.960</td> <td>   -2.810</td>\n",
       "</tr>\n",
       "<tr>\n",
       "  <th>sentiment</th>                 <td>    0.2962</td> <td>    0.043</td> <td>    6.866</td> <td> 0.000</td> <td>    0.212</td> <td>    0.381</td>\n",
       "</tr>\n",
       "<tr>\n",
       "  <th>num_punctuations</th>          <td>   -0.0433</td> <td>    0.003</td> <td>  -14.991</td> <td> 0.000</td> <td>   -0.049</td> <td>   -0.038</td>\n",
       "</tr>\n",
       "<tr>\n",
       "  <th>num_scentences_in_text</th>    <td>    0.0628</td> <td>    0.010</td> <td>    6.106</td> <td> 0.000</td> <td>    0.043</td> <td>    0.083</td>\n",
       "</tr>\n",
       "<tr>\n",
       "  <th>flesch_ease</th>               <td>   -0.0071</td> <td>    0.002</td> <td>   -3.991</td> <td> 0.000</td> <td>   -0.011</td> <td>   -0.004</td>\n",
       "</tr>\n",
       "<tr>\n",
       "  <th>flesch_kincaid_grade</th>      <td>   -0.0530</td> <td>    0.006</td> <td>   -9.259</td> <td> 0.000</td> <td>   -0.064</td> <td>   -0.042</td>\n",
       "</tr>\n",
       "<tr>\n",
       "  <th>overall_readability_index</th> <td>   -0.0035</td> <td>    0.004</td> <td>   -0.953</td> <td> 0.341</td> <td>   -0.011</td> <td>    0.004</td>\n",
       "</tr>\n",
       "</table>"
      ],
      "text/plain": [
       "<class 'statsmodels.iolib.summary.Summary'>\n",
       "\"\"\"\n",
       "                           Logit Regression Results                           \n",
       "==============================================================================\n",
       "Dep. Variable:              falsified   No. Observations:                21000\n",
       "Model:                          Logit   Df Residuals:                    20992\n",
       "Method:                           MLE   Df Model:                            7\n",
       "Date:                Fri, 19 Jun 2020   Pseudo R-squ.:                  0.3060\n",
       "Time:                        09:30:32   Log-Likelihood:                -10102.\n",
       "converged:                       True   LL-Null:                       -14556.\n",
       "Covariance Type:            nonrobust   LLR p-value:                     0.000\n",
       "=============================================================================================\n",
       "                                coef    std err          z      P>|z|      [0.025      0.975]\n",
       "---------------------------------------------------------------------------------------------\n",
       "const                         2.7099      0.190     14.275      0.000       2.338       3.082\n",
       "verified_purchase            -2.8852      0.038    -75.173      0.000      -2.960      -2.810\n",
       "sentiment                     0.2962      0.043      6.866      0.000       0.212       0.381\n",
       "num_punctuations             -0.0433      0.003    -14.991      0.000      -0.049      -0.038\n",
       "num_scentences_in_text        0.0628      0.010      6.106      0.000       0.043       0.083\n",
       "flesch_ease                  -0.0071      0.002     -3.991      0.000      -0.011      -0.004\n",
       "flesch_kincaid_grade         -0.0530      0.006     -9.259      0.000      -0.064      -0.042\n",
       "overall_readability_index    -0.0035      0.004     -0.953      0.341      -0.011       0.004\n",
       "=============================================================================================\n",
       "\"\"\""
      ]
     },
     "execution_count": 342,
     "metadata": {},
     "output_type": "execute_result"
    }
   ],
   "source": [
    "X_withconstant = sm.add_constant(X)\n",
    "\n",
    "my_logit_results = sm.Logit(y, X_withconstant).fit()\n",
    "my_logit_results.summary()"
   ]
  },
  {
   "cell_type": "markdown",
   "metadata": {},
   "source": [
    "### 6. Class Imbalance + Downsampling DF"
   ]
  },
  {
   "cell_type": "code",
   "execution_count": 343,
   "metadata": {},
   "outputs": [
    {
     "name": "stdout",
     "output_type": "stream",
     "text": [
      "1    16183\n",
      "0     4817\n",
      "Name: sentiment, dtype: int64\n"
     ]
    },
    {
     "data": {
      "text/plain": [
       "Text(0.5, 1.0, 'Sentiment Counts')"
      ]
     },
     "execution_count": 343,
     "metadata": {},
     "output_type": "execute_result"
    },
    {
     "data": {
      "image/png": "[encoded data removed]",
      "text/plain": [
       "<Figure size 432x288 with 1 Axes>"
      ]
     },
     "metadata": {},
     "output_type": "display_data"
    }
   ],
   "source": [
    "print(low_vif_df_numerical['sentiment'].value_counts())\n",
    "sns.countplot(x='sentiment', data=low_vif_df_numerical)\n",
    "plt.title(\"Sentiment Counts\")"
   ]
  },
  {
   "cell_type": "code",
   "execution_count": 344,
   "metadata": {},
   "outputs": [],
   "source": [
    "from sklearn.utils import resample\n",
    "\n",
    "positive = low_vif_df_numerical[low_vif_df_numerical['sentiment']==1]\n",
    "negative = low_vif_df_numerical[low_vif_df_numerical['sentiment']==0]\n",
    "\n",
    "positive_downsampled = resample(positive,\n",
    "                                replace = False, # sample without replacement\n",
    "                                n_samples = len(negative), # match minority n\n",
    "                                random_state = 27) # reproducible results\n",
    "\n",
    "# combine minority and downsampled majority\n",
    "downsampled = pd.concat([positive_downsampled, negative])\n",
    "\n",
    "df_downsampled = downsampled"
   ]
  },
  {
   "cell_type": "code",
   "execution_count": 345,
   "metadata": {},
   "outputs": [
    {
     "name": "stdout",
     "output_type": "stream",
     "text": [
      "1    4817\n",
      "0    4817\n",
      "Name: sentiment, dtype: int64\n"
     ]
    },
    {
     "data": {
      "text/plain": [
       "Text(0.5, 1.0, 'Sentiment Counts')"
      ]
     },
     "execution_count": 345,
     "metadata": {},
     "output_type": "execute_result"
    },
    {
     "data": {
      "image/png": "[encoded data removed]",
      "text/plain": [
       "<Figure size 432x288 with 1 Axes>"
      ]
     },
     "metadata": {},
     "output_type": "display_data"
    }
   ],
   "source": [
    "print(df_downsampled['sentiment'].value_counts())\n",
    "sns.countplot(x='sentiment', data=df_downsampled)\n",
    "plt.title(\"Sentiment Counts\")"
   ]
  },
  {
   "cell_type": "markdown",
   "metadata": {},
   "source": [
    "### 7. Clustering"
   ]
  },
  {
   "cell_type": "code",
   "execution_count": 346,
   "metadata": {},
   "outputs": [],
   "source": [
    "from sklearn.decomposition import PCA\n",
    "from sklearn.preprocessing import StandardScaler\n",
    "from sklearn.manifold import TSNE"
   ]
  },
  {
   "cell_type": "code",
   "execution_count": 347,
   "metadata": {},
   "outputs": [
    {
     "name": "stdout",
     "output_type": "stream",
     "text": [
      "[t-SNE] Computing 121 nearest neighbors...\n",
      "[t-SNE] Indexed 9634 samples in 0.007s...\n",
      "[t-SNE] Computed neighbors for 9634 samples in 0.683s...\n",
      "[t-SNE] Computed conditional probabilities for sample 1000 / 9634\n",
      "[t-SNE] Computed conditional probabilities for sample 2000 / 9634\n",
      "[t-SNE] Computed conditional probabilities for sample 3000 / 9634\n",
      "[t-SNE] Computed conditional probabilities for sample 4000 / 9634\n",
      "[t-SNE] Computed conditional probabilities for sample 5000 / 9634\n",
      "[t-SNE] Computed conditional probabilities for sample 6000 / 9634\n",
      "[t-SNE] Computed conditional probabilities for sample 7000 / 9634\n",
      "[t-SNE] Computed conditional probabilities for sample 8000 / 9634\n",
      "[t-SNE] Computed conditional probabilities for sample 9000 / 9634\n",
      "[t-SNE] Computed conditional probabilities for sample 9634 / 9634\n",
      "[t-SNE] Mean sigma: 0.161962\n",
      "[t-SNE] KL divergence after 250 iterations with early exaggeration: 65.412323\n",
      "[t-SNE] KL divergence after 300 iterations: 2.040689\n"
     ]
    }
   ],
   "source": [
    "# tSNE with two components\n",
    "X = df_downsampled\n",
    "y = df_downsampled['falsified']\n",
    "\n",
    "# We need to scale the data since tSNE is also distance based\n",
    "scaler = StandardScaler()\n",
    "X_scaled = scaler.fit_transform(X)\n",
    "\n",
    "my_tSNE = TSNE(n_components=2, verbose=1, perplexity=40, n_iter=300)\n",
    "\n",
    "X_tSNE = my_tSNE.fit_transform(X_scaled)"
   ]
  },
  {
   "cell_type": "code",
   "execution_count": 348,
   "metadata": {},
   "outputs": [
    {
     "data": {
      "image/png": "[encoded data removed]",
      "text/plain": [
       "<Figure size 576x576 with 1 Axes>"
      ]
     },
     "metadata": {},
     "output_type": "display_data"
    }
   ],
   "source": [
    "# Plotting the tSNE-transformed data (only the first two dimensions)\n",
    "plt.figure(figsize=(8, 8))\n",
    "plt.scatter(X_tSNE[:,0],X_tSNE[:,1],c=y)\n",
    "\n",
    "plt.xlabel(\"tSNE Component 1\")\n",
    "plt.ylabel(\"tSNE Component 2\")\n",
    "\n",
    "plt.show()"
   ]
  },
  {
   "cell_type": "code",
   "execution_count": 349,
   "metadata": {
    "collapsed": true,
    "jupyter": {
     "outputs_hidden": true
    }
   },
   "outputs": [
    {
     "data": {
      "image/png": "[encoded data removed]",
      "text/plain": [
       "<Figure size 360x360 with 1 Axes>"
      ]
     },
     "metadata": {},
     "output_type": "display_data"
    },
    {
     "data": {
      "image/png": "[encoded data removed]",
      "text/plain": [
       "<Figure size 360x360 with 1 Axes>"
      ]
     },
     "metadata": {},
     "output_type": "display_data"
    },
    {
     "data": {
      "image/png": "[encoded data removed]",
      "text/plain": [
       "<Figure size 360x360 with 1 Axes>"
      ]
     },
     "metadata": {},
     "output_type": "display_data"
    },
    {
     "data": {
      "image/png": "[encoded data removed]",
      "text/plain": [
       "<Figure size 360x360 with 1 Axes>"
      ]
     },
     "metadata": {},
     "output_type": "display_data"
    },
    {
     "data": {
      "image/png": "[encoded data removed]",
      "text/plain": [
       "<Figure size 360x360 with 1 Axes>"
      ]
     },
     "metadata": {},
     "output_type": "display_data"
    },
    {
     "data": {
      "image/png": "[encoded data removed]",
      "text/plain": [
       "<Figure size 360x360 with 1 Axes>"
      ]
     },
     "metadata": {},
     "output_type": "display_data"
    },
    {
     "data": {
      "image/png": "[encoded data removed]",
      "text/plain": [
       "<Figure size 360x360 with 1 Axes>"
      ]
     },
     "metadata": {},
     "output_type": "display_data"
    },
    {
     "data": {
      "image/png": "[encoded data removed]",
      "text/plain": [
       "<Figure size 360x360 with 1 Axes>"
      ]
     },
     "metadata": {},
     "output_type": "display_data"
    }
   ],
   "source": [
    "from sklearn.mixture import GaussianMixture\n",
    "\n",
    "X = df_downsampled\n",
    "y = df_downsampled['falsified']\n",
    "\n",
    "#Build and fit the model\n",
    "my_gmm = GaussianMixture(n_components=2, covariance_type='full')\n",
    "my_gmm.fit(X)\n",
    "\n",
    "#Getting the labels\n",
    "pred_labels_gmm = my_gmm.predict(X)\n",
    "\n",
    "for column in df_downsampled:\n",
    "    #Plot the predictions\n",
    "    plt.figure(figsize=[5,5])\n",
    "    plt.scatter(x = df_downsampled[column],\n",
    "                y = df_downsampled['num_scentences_in_text'],\n",
    "                c=pred_labels_gmm, \n",
    "                edgecolor='k',\n",
    "                alpha=0.7)\n",
    "    plt.xlabel(column)\n",
    "    plt.ylabel('falsified')\n",
    "    plt.show();"
   ]
  },
  {
   "cell_type": "markdown",
   "metadata": {},
   "source": [
    "### 8. Model Selection & Detailed Data Modeling"
   ]
  },
  {
   "cell_type": "code",
   "execution_count": 350,
   "metadata": {},
   "outputs": [
    {
     "name": "stdout",
     "output_type": "stream",
     "text": [
      "(9634,)\n",
      "(9634, 7)\n"
     ]
    }
   ],
   "source": [
    "y = df_downsampled['falsified']\n",
    "X = df_downsampled.drop(columns='falsified')\n",
    "\n",
    "X_train, X_test, y_train, y_test = train_test_split(X, y, test_size=0.2, random_state=1)\n",
    "\n",
    "print(y.shape)\n",
    "print(X.shape)"
   ]
  },
  {
   "cell_type": "code",
   "execution_count": 351,
   "metadata": {},
   "outputs": [
    {
     "name": "stdout",
     "output_type": "stream",
     "text": [
      "Optimization terminated successfully.\n",
      "         Current function value: 0.456106\n",
      "         Iterations 7\n"
     ]
    },
    {
     "data": {
      "text/html": [
       "<table class=\"simpletable\">\n",
       "<caption>Logit Regression Results</caption>\n",
       "<tr>\n",
       "  <th>Dep. Variable:</th>       <td>falsified</td>    <th>  No. Observations:  </th>  <td>  9634</td> \n",
       "</tr>\n",
       "<tr>\n",
       "  <th>Model:</th>                 <td>Logit</td>      <th>  Df Residuals:      </th>  <td>  9626</td> \n",
       "</tr>\n",
       "<tr>\n",
       "  <th>Method:</th>                 <td>MLE</td>       <th>  Df Model:          </th>  <td>     7</td> \n",
       "</tr>\n",
       "<tr>\n",
       "  <th>Date:</th>            <td>Fri, 19 Jun 2020</td> <th>  Pseudo R-squ.:     </th>  <td>0.3420</td> \n",
       "</tr>\n",
       "<tr>\n",
       "  <th>Time:</th>                <td>09:31:18</td>     <th>  Log-Likelihood:    </th> <td> -4394.1</td>\n",
       "</tr>\n",
       "<tr>\n",
       "  <th>converged:</th>             <td>True</td>       <th>  LL-Null:           </th> <td> -6677.7</td>\n",
       "</tr>\n",
       "<tr>\n",
       "  <th>Covariance Type:</th>     <td>nonrobust</td>    <th>  LLR p-value:       </th>  <td> 0.000</td> \n",
       "</tr>\n",
       "</table>\n",
       "<table class=\"simpletable\">\n",
       "<tr>\n",
       "              <td></td>                 <th>coef</th>     <th>std err</th>      <th>z</th>      <th>P>|z|</th>  <th>[0.025</th>    <th>0.975]</th>  \n",
       "</tr>\n",
       "<tr>\n",
       "  <th>const</th>                     <td>    3.0000</td> <td>    0.384</td> <td>    7.821</td> <td> 0.000</td> <td>    2.248</td> <td>    3.752</td>\n",
       "</tr>\n",
       "<tr>\n",
       "  <th>verified_purchase</th>         <td>   -3.1019</td> <td>    0.058</td> <td>  -53.698</td> <td> 0.000</td> <td>   -3.215</td> <td>   -2.989</td>\n",
       "</tr>\n",
       "<tr>\n",
       "  <th>sentiment</th>                 <td>    0.3251</td> <td>    0.055</td> <td>    5.912</td> <td> 0.000</td> <td>    0.217</td> <td>    0.433</td>\n",
       "</tr>\n",
       "<tr>\n",
       "  <th>num_punctuations</th>          <td>   -0.0343</td> <td>    0.004</td> <td>   -8.207</td> <td> 0.000</td> <td>   -0.042</td> <td>   -0.026</td>\n",
       "</tr>\n",
       "<tr>\n",
       "  <th>num_scentences_in_text</th>    <td>    0.0222</td> <td>    0.016</td> <td>    1.411</td> <td> 0.158</td> <td>   -0.009</td> <td>    0.053</td>\n",
       "</tr>\n",
       "<tr>\n",
       "  <th>flesch_ease</th>               <td>   -0.0076</td> <td>    0.004</td> <td>   -2.006</td> <td> 0.045</td> <td>   -0.015</td> <td>   -0.000</td>\n",
       "</tr>\n",
       "<tr>\n",
       "  <th>flesch_kincaid_grade</th>      <td>   -0.0576</td> <td>    0.011</td> <td>   -5.204</td> <td> 0.000</td> <td>   -0.079</td> <td>   -0.036</td>\n",
       "</tr>\n",
       "<tr>\n",
       "  <th>overall_readability_index</th> <td>   -0.0097</td> <td>    0.006</td> <td>   -1.729</td> <td> 0.084</td> <td>   -0.021</td> <td>    0.001</td>\n",
       "</tr>\n",
       "</table>"
      ],
      "text/plain": [
       "<class 'statsmodels.iolib.summary.Summary'>\n",
       "\"\"\"\n",
       "                           Logit Regression Results                           \n",
       "==============================================================================\n",
       "Dep. Variable:              falsified   No. Observations:                 9634\n",
       "Model:                          Logit   Df Residuals:                     9626\n",
       "Method:                           MLE   Df Model:                            7\n",
       "Date:                Fri, 19 Jun 2020   Pseudo R-squ.:                  0.3420\n",
       "Time:                        09:31:18   Log-Likelihood:                -4394.1\n",
       "converged:                       True   LL-Null:                       -6677.7\n",
       "Covariance Type:            nonrobust   LLR p-value:                     0.000\n",
       "=============================================================================================\n",
       "                                coef    std err          z      P>|z|      [0.025      0.975]\n",
       "---------------------------------------------------------------------------------------------\n",
       "const                         3.0000      0.384      7.821      0.000       2.248       3.752\n",
       "verified_purchase            -3.1019      0.058    -53.698      0.000      -3.215      -2.989\n",
       "sentiment                     0.3251      0.055      5.912      0.000       0.217       0.433\n",
       "num_punctuations             -0.0343      0.004     -8.207      0.000      -0.042      -0.026\n",
       "num_scentences_in_text        0.0222      0.016      1.411      0.158      -0.009       0.053\n",
       "flesch_ease                  -0.0076      0.004     -2.006      0.045      -0.015      -0.000\n",
       "flesch_kincaid_grade         -0.0576      0.011     -5.204      0.000      -0.079      -0.036\n",
       "overall_readability_index    -0.0097      0.006     -1.729      0.084      -0.021       0.001\n",
       "=============================================================================================\n",
       "\"\"\""
      ]
     },
     "execution_count": 351,
     "metadata": {},
     "output_type": "execute_result"
    }
   ],
   "source": [
    "X_withconstant = sm.add_constant(X)\n",
    "\n",
    "my_logit_results = sm.Logit(y, X_withconstant).fit()\n",
    "my_logit_results.summary()"
   ]
  },
  {
   "cell_type": "code",
   "execution_count": 366,
   "metadata": {},
   "outputs": [
    {
     "data": {
      "text/plain": [
       "const                     3.00\n",
       "verified_purchase        -3.10\n",
       "sentiment                 0.33\n",
       "num_punctuations         -0.03\n",
       "num_scentences_in_text    0.02\n",
       "dtype: float64"
      ]
     },
     "execution_count": 366,
     "metadata": {},
     "output_type": "execute_result"
    }
   ],
   "source": [
    "coefficients = my_logit_results.params\n",
    "coefficients.head()"
   ]
  },
  {
   "cell_type": "code",
   "execution_count": 367,
   "metadata": {},
   "outputs": [
    {
     "data": {
      "text/plain": [
       "const                    0.00\n",
       "verified_purchase        0.00\n",
       "sentiment                0.00\n",
       "num_punctuations         0.00\n",
       "num_scentences_in_text   0.16\n",
       "dtype: float64"
      ]
     },
     "execution_count": 367,
     "metadata": {},
     "output_type": "execute_result"
    }
   ],
   "source": [
    "p_values = my_logit_results.pvalues\n",
    "p_values.head()"
   ]
  },
  {
   "cell_type": "code",
   "execution_count": 368,
   "metadata": {},
   "outputs": [
    {
     "name": "stdout",
     "output_type": "stream",
     "text": [
      "(8, 2)\n"
     ]
    },
    {
     "data": {
      "text/html": [
       "<div>\n",
       "<style scoped>\n",
       "    .dataframe tbody tr th:only-of-type {\n",
       "        vertical-align: middle;\n",
       "    }\n",
       "\n",
       "    .dataframe tbody tr th {\n",
       "        vertical-align: top;\n",
       "    }\n",
       "\n",
       "    .dataframe thead th {\n",
       "        text-align: right;\n",
       "    }\n",
       "</style>\n",
       "<table border=\"1\" class=\"dataframe\">\n",
       "  <thead>\n",
       "    <tr style=\"text-align: right;\">\n",
       "      <th></th>\n",
       "      <th>coefficient</th>\n",
       "      <th>p-value</th>\n",
       "    </tr>\n",
       "  </thead>\n",
       "  <tbody>\n",
       "    <tr>\n",
       "      <th>const</th>\n",
       "      <td>3.00</td>\n",
       "      <td>0.00</td>\n",
       "    </tr>\n",
       "    <tr>\n",
       "      <th>verified_purchase</th>\n",
       "      <td>-3.10</td>\n",
       "      <td>0.00</td>\n",
       "    </tr>\n",
       "    <tr>\n",
       "      <th>sentiment</th>\n",
       "      <td>0.33</td>\n",
       "      <td>0.00</td>\n",
       "    </tr>\n",
       "    <tr>\n",
       "      <th>num_punctuations</th>\n",
       "      <td>-0.03</td>\n",
       "      <td>0.00</td>\n",
       "    </tr>\n",
       "    <tr>\n",
       "      <th>num_scentences_in_text</th>\n",
       "      <td>0.02</td>\n",
       "      <td>0.16</td>\n",
       "    </tr>\n",
       "  </tbody>\n",
       "</table>\n",
       "</div>"
      ],
      "text/plain": [
       "                        coefficient  p-value\n",
       "const                          3.00     0.00\n",
       "verified_purchase             -3.10     0.00\n",
       "sentiment                      0.33     0.00\n",
       "num_punctuations              -0.03     0.00\n",
       "num_scentences_in_text         0.02     0.16"
      ]
     },
     "execution_count": 368,
     "metadata": {},
     "output_type": "execute_result"
    }
   ],
   "source": [
    "coefficient_df = pd.DataFrame({\"coefficient\": coefficients,\n",
    "                               \"p-value\": p_values})\n",
    "print(coefficient_df.shape)\n",
    "coefficient_df.head()"
   ]
  },
  {
   "cell_type": "code",
   "execution_count": 369,
   "metadata": {},
   "outputs": [
    {
     "data": {
      "text/html": [
       "<div>\n",
       "<style scoped>\n",
       "    .dataframe tbody tr th:only-of-type {\n",
       "        vertical-align: middle;\n",
       "    }\n",
       "\n",
       "    .dataframe tbody tr th {\n",
       "        vertical-align: top;\n",
       "    }\n",
       "\n",
       "    .dataframe thead th {\n",
       "        text-align: right;\n",
       "    }\n",
       "</style>\n",
       "<table border=\"1\" class=\"dataframe\">\n",
       "  <thead>\n",
       "    <tr style=\"text-align: right;\">\n",
       "      <th></th>\n",
       "      <th>coefficient</th>\n",
       "      <th>p-value</th>\n",
       "    </tr>\n",
       "  </thead>\n",
       "  <tbody>\n",
       "    <tr>\n",
       "      <th>verified_purchase</th>\n",
       "      <td>-3.10</td>\n",
       "      <td>0.00</td>\n",
       "    </tr>\n",
       "    <tr>\n",
       "      <th>sentiment</th>\n",
       "      <td>0.33</td>\n",
       "      <td>0.00</td>\n",
       "    </tr>\n",
       "    <tr>\n",
       "      <th>num_punctuations</th>\n",
       "      <td>-0.03</td>\n",
       "      <td>0.00</td>\n",
       "    </tr>\n",
       "    <tr>\n",
       "      <th>num_scentences_in_text</th>\n",
       "      <td>0.02</td>\n",
       "      <td>0.16</td>\n",
       "    </tr>\n",
       "    <tr>\n",
       "      <th>flesch_ease</th>\n",
       "      <td>-0.01</td>\n",
       "      <td>0.04</td>\n",
       "    </tr>\n",
       "  </tbody>\n",
       "</table>\n",
       "</div>"
      ],
      "text/plain": [
       "                        coefficient  p-value\n",
       "verified_purchase             -3.10     0.00\n",
       "sentiment                      0.33     0.00\n",
       "num_punctuations              -0.03     0.00\n",
       "num_scentences_in_text         0.02     0.16\n",
       "flesch_ease                   -0.01     0.04"
      ]
     },
     "execution_count": 369,
     "metadata": {},
     "output_type": "execute_result"
    }
   ],
   "source": [
    "coefficient_df.drop('const', axis=0, inplace=True)\n",
    "coefficient_df.head()"
   ]
  },
  {
   "cell_type": "code",
   "execution_count": 370,
   "metadata": {},
   "outputs": [
    {
     "data": {
      "text/plain": [
       "(5, 2)"
      ]
     },
     "execution_count": 370,
     "metadata": {},
     "output_type": "execute_result"
    }
   ],
   "source": [
    "statistically_significant_condition = coefficient_df['p-value'] < 0.05\n",
    "\n",
    "significant_coefficient_df = coefficient_df.loc[statistically_significant_condition].copy()\n",
    "significant_coefficient_df.shape"
   ]
  },
  {
   "cell_type": "code",
   "execution_count": 371,
   "metadata": {},
   "outputs": [
    {
     "data": {
      "text/html": [
       "<div>\n",
       "<style scoped>\n",
       "    .dataframe tbody tr th:only-of-type {\n",
       "        vertical-align: middle;\n",
       "    }\n",
       "\n",
       "    .dataframe tbody tr th {\n",
       "        vertical-align: top;\n",
       "    }\n",
       "\n",
       "    .dataframe thead th {\n",
       "        text-align: right;\n",
       "    }\n",
       "</style>\n",
       "<table border=\"1\" class=\"dataframe\">\n",
       "  <thead>\n",
       "    <tr style=\"text-align: right;\">\n",
       "      <th></th>\n",
       "      <th>coefficient</th>\n",
       "      <th>p-value</th>\n",
       "      <th>abs_coef</th>\n",
       "    </tr>\n",
       "  </thead>\n",
       "  <tbody>\n",
       "    <tr>\n",
       "      <th>flesch_ease</th>\n",
       "      <td>-0.01</td>\n",
       "      <td>0.04</td>\n",
       "      <td>0.01</td>\n",
       "    </tr>\n",
       "    <tr>\n",
       "      <th>num_punctuations</th>\n",
       "      <td>-0.03</td>\n",
       "      <td>0.00</td>\n",
       "      <td>0.03</td>\n",
       "    </tr>\n",
       "    <tr>\n",
       "      <th>flesch_kincaid_grade</th>\n",
       "      <td>-0.06</td>\n",
       "      <td>0.00</td>\n",
       "      <td>0.06</td>\n",
       "    </tr>\n",
       "    <tr>\n",
       "      <th>sentiment</th>\n",
       "      <td>0.33</td>\n",
       "      <td>0.00</td>\n",
       "      <td>0.33</td>\n",
       "    </tr>\n",
       "    <tr>\n",
       "      <th>verified_purchase</th>\n",
       "      <td>-3.10</td>\n",
       "      <td>0.00</td>\n",
       "      <td>3.10</td>\n",
       "    </tr>\n",
       "  </tbody>\n",
       "</table>\n",
       "</div>"
      ],
      "text/plain": [
       "                      coefficient  p-value  abs_coef\n",
       "flesch_ease                 -0.01     0.04      0.01\n",
       "num_punctuations            -0.03     0.00      0.03\n",
       "flesch_kincaid_grade        -0.06     0.00      0.06\n",
       "sentiment                    0.33     0.00      0.33\n",
       "verified_purchase           -3.10     0.00      3.10"
      ]
     },
     "execution_count": 371,
     "metadata": {},
     "output_type": "execute_result"
    }
   ],
   "source": [
    "significant_coefficient_df['abs_coef'] = np.abs(significant_coefficient_df['coefficient'])\n",
    "significant_coefficient_df = significant_coefficient_df.sort_values(by='abs_coef')\n",
    "significant_coefficient_df"
   ]
  },
  {
   "cell_type": "code",
   "execution_count": 372,
   "metadata": {},
   "outputs": [
    {
     "data": {
      "text/html": [
       "<div>\n",
       "<style scoped>\n",
       "    .dataframe tbody tr th:only-of-type {\n",
       "        vertical-align: middle;\n",
       "    }\n",
       "\n",
       "    .dataframe tbody tr th {\n",
       "        vertical-align: top;\n",
       "    }\n",
       "\n",
       "    .dataframe thead th {\n",
       "        text-align: right;\n",
       "    }\n",
       "</style>\n",
       "<table border=\"1\" class=\"dataframe\">\n",
       "  <thead>\n",
       "    <tr style=\"text-align: right;\">\n",
       "      <th></th>\n",
       "      <th>coefficient</th>\n",
       "      <th>p-value</th>\n",
       "      <th>abs_coef</th>\n",
       "      <th>color</th>\n",
       "    </tr>\n",
       "  </thead>\n",
       "  <tbody>\n",
       "    <tr>\n",
       "      <th>flesch_ease</th>\n",
       "      <td>-0.01</td>\n",
       "      <td>0.04</td>\n",
       "      <td>0.01</td>\n",
       "      <td>red</td>\n",
       "    </tr>\n",
       "    <tr>\n",
       "      <th>num_punctuations</th>\n",
       "      <td>-0.03</td>\n",
       "      <td>0.00</td>\n",
       "      <td>0.03</td>\n",
       "      <td>red</td>\n",
       "    </tr>\n",
       "    <tr>\n",
       "      <th>flesch_kincaid_grade</th>\n",
       "      <td>-0.06</td>\n",
       "      <td>0.00</td>\n",
       "      <td>0.06</td>\n",
       "      <td>red</td>\n",
       "    </tr>\n",
       "    <tr>\n",
       "      <th>sentiment</th>\n",
       "      <td>0.33</td>\n",
       "      <td>0.00</td>\n",
       "      <td>0.33</td>\n",
       "      <td>blue</td>\n",
       "    </tr>\n",
       "    <tr>\n",
       "      <th>verified_purchase</th>\n",
       "      <td>-3.10</td>\n",
       "      <td>0.00</td>\n",
       "      <td>3.10</td>\n",
       "      <td>red</td>\n",
       "    </tr>\n",
       "  </tbody>\n",
       "</table>\n",
       "</div>"
      ],
      "text/plain": [
       "                      coefficient  p-value  abs_coef color\n",
       "flesch_ease                 -0.01     0.04      0.01   red\n",
       "num_punctuations            -0.03     0.00      0.03   red\n",
       "flesch_kincaid_grade        -0.06     0.00      0.06   red\n",
       "sentiment                    0.33     0.00      0.33  blue\n",
       "verified_purchase           -3.10     0.00      3.10   red"
      ]
     },
     "execution_count": 372,
     "metadata": {},
     "output_type": "execute_result"
    }
   ],
   "source": [
    "significant_coefficient_df['color'] = np.where(significant_coefficient_df['coefficient'] >= 0.0,\n",
    "                                               'blue', \n",
    "                                               'red')\n",
    "significant_coefficient_df.head()"
   ]
  },
  {
   "cell_type": "code",
   "execution_count": 384,
   "metadata": {},
   "outputs": [
    {
     "data": {
      "image/png": "[encoded data removed]",
      "text/plain": [
       "<Figure size 720x504 with 1 Axes>"
      ]
     },
     "metadata": {},
     "output_type": "display_data"
    }
   ],
   "source": [
    "plt.figure(figsize=(10,7))\n",
    "plt.barh(significant_coefficient_df.index, \n",
    "         significant_coefficient_df['coefficient'],\n",
    "         color=significant_coefficient_df['color'])\n",
    "plt.title(\"The Coefficient Value of Different Features\\nwith Respect To the Probability of Falsified Reviews\",\n",
    "          size=20)\n",
    "plt.xlabel(\"Coefficient Value\", size=20)\n",
    "plt.ylabel(\"Feature\", size=20)\n",
    "plt.show()"
   ]
  },
  {
   "cell_type": "code",
   "execution_count": 385,
   "metadata": {},
   "outputs": [
    {
     "data": {
      "text/html": [
       "<div>\n",
       "<style scoped>\n",
       "    .dataframe tbody tr th:only-of-type {\n",
       "        vertical-align: middle;\n",
       "    }\n",
       "\n",
       "    .dataframe tbody tr th {\n",
       "        vertical-align: top;\n",
       "    }\n",
       "\n",
       "    .dataframe thead th {\n",
       "        text-align: right;\n",
       "    }\n",
       "</style>\n",
       "<table border=\"1\" class=\"dataframe\">\n",
       "  <thead>\n",
       "    <tr style=\"text-align: right;\">\n",
       "      <th></th>\n",
       "      <th>coefficient</th>\n",
       "      <th>p-value</th>\n",
       "      <th>abs_coef</th>\n",
       "      <th>color</th>\n",
       "      <th>odds_increase</th>\n",
       "    </tr>\n",
       "  </thead>\n",
       "  <tbody>\n",
       "    <tr>\n",
       "      <th>flesch_ease</th>\n",
       "      <td>-0.01</td>\n",
       "      <td>0.04</td>\n",
       "      <td>0.01</td>\n",
       "      <td>red</td>\n",
       "      <td>1.01</td>\n",
       "    </tr>\n",
       "    <tr>\n",
       "      <th>num_punctuations</th>\n",
       "      <td>-0.03</td>\n",
       "      <td>0.00</td>\n",
       "      <td>0.03</td>\n",
       "      <td>red</td>\n",
       "      <td>1.03</td>\n",
       "    </tr>\n",
       "    <tr>\n",
       "      <th>flesch_kincaid_grade</th>\n",
       "      <td>-0.06</td>\n",
       "      <td>0.00</td>\n",
       "      <td>0.06</td>\n",
       "      <td>red</td>\n",
       "      <td>1.06</td>\n",
       "    </tr>\n",
       "    <tr>\n",
       "      <th>sentiment</th>\n",
       "      <td>0.33</td>\n",
       "      <td>0.00</td>\n",
       "      <td>0.33</td>\n",
       "      <td>blue</td>\n",
       "      <td>1.38</td>\n",
       "    </tr>\n",
       "    <tr>\n",
       "      <th>verified_purchase</th>\n",
       "      <td>-3.10</td>\n",
       "      <td>0.00</td>\n",
       "      <td>3.10</td>\n",
       "      <td>red</td>\n",
       "      <td>22.24</td>\n",
       "    </tr>\n",
       "  </tbody>\n",
       "</table>\n",
       "</div>"
      ],
      "text/plain": [
       "                      coefficient  p-value  abs_coef color  odds_increase\n",
       "flesch_ease                 -0.01     0.04      0.01   red           1.01\n",
       "num_punctuations            -0.03     0.00      0.03   red           1.03\n",
       "flesch_kincaid_grade        -0.06     0.00      0.06   red           1.06\n",
       "sentiment                    0.33     0.00      0.33  blue           1.38\n",
       "verified_purchase           -3.10     0.00      3.10   red          22.24"
      ]
     },
     "execution_count": 385,
     "metadata": {},
     "output_type": "execute_result"
    }
   ],
   "source": [
    "significant_coefficient_df['odds_increase'] = np.where(significant_coefficient_df['coefficient'] > 0,\n",
    "                                                       np.exp(significant_coefficient_df['coefficient']),\n",
    "                                                       np.exp(-significant_coefficient_df['coefficient']))\n",
    "significant_coefficient_df.head() "
   ]
  },
  {
   "cell_type": "code",
   "execution_count": 386,
   "metadata": {},
   "outputs": [
    {
     "data": {
      "image/png": "[encoded data removed]",
      "text/plain": [
       "<Figure size 720x504 with 1 Axes>"
      ]
     },
     "metadata": {},
     "output_type": "display_data"
    }
   ],
   "source": [
    "significant_coefficient_df['odds_increase'] = np.where(significant_coefficient_df['coefficient'] > 0,\n",
    "                                                       significant_coefficient_df['odds_increase'],\n",
    "                                                       -significant_coefficient_df['odds_increase'])\n",
    "\n",
    "\n",
    "plt.figure(figsize=(10,7))\n",
    "plt.barh(significant_coefficient_df.index, \n",
    "         significant_coefficient_df['odds_increase'],\n",
    "         color=significant_coefficient_df['color'])\n",
    "plt.title(\"The Probability of Falsified Review\",\n",
    "          size=20)\n",
    "plt.xlabel(\"Odds Change\", size=20)\n",
    "plt.ylabel(\"Feature\", size=20)\n",
    "plt.show()"
   ]
  },
  {
   "cell_type": "code",
   "execution_count": null,
   "metadata": {},
   "outputs": [],
   "source": []
  },
  {
   "cell_type": "code",
   "execution_count": null,
   "metadata": {},
   "outputs": [],
   "source": []
  },
  {
   "cell_type": "code",
   "execution_count": null,
   "metadata": {},
   "outputs": [],
   "source": []
  },
  {
   "cell_type": "markdown",
   "metadata": {},
   "source": [
    "#### Logistic Regression"
   ]
  },
  {
   "cell_type": "code",
   "execution_count": 352,
   "metadata": {},
   "outputs": [],
   "source": [
    "from sklearn.linear_model import LogisticRegression\n",
    "from sklearn.metrics import accuracy_score\n",
    "\n",
    "X = df_downsampled\n",
    "y = df_downsampled['falsified']\n",
    "\n",
    "# Split the data\n",
    "X_train, X_test, y_train, y_test = train_test_split(X, y, test_size=0.2, random_state=1)"
   ]
  },
  {
   "cell_type": "code",
   "execution_count": 356,
   "metadata": {},
   "outputs": [
    {
     "name": "stdout",
     "output_type": "stream",
     "text": [
      "Score on training set: 1.0\n",
      "Score on test set: 1.0\n"
     ]
    }
   ],
   "source": [
    "#Fit a logistic regression model\n",
    "logreg_model = LogisticRegression(penalty='l2', max_iter=10000)\n",
    "logreg_model.fit(X_train, y_train)\n",
    "\n",
    "#Score it\n",
    "train_prediction = logreg_model.predict(X_train)\n",
    "test_prediction = logreg_model.predict(X_test)\n",
    "accuracy_train = accuracy_score(train_prediction, y_train)\n",
    "accuracy_test = accuracy_score(test_prediction, y_test)\n",
    "\n",
    "print(f\"Score on training set: {accuracy_train}\")\n",
    "print(f\"Score on test set: {accuracy_test}\")\n",
    "\n",
    "#PlotBoundaries(logreg_model, X, y, plotsize=(10,7))"
   ]
  },
  {
   "cell_type": "markdown",
   "metadata": {},
   "source": [
    "#### K-Nearest Neighbors"
   ]
  },
  {
   "cell_type": "code",
   "execution_count": 357,
   "metadata": {},
   "outputs": [
    {
     "name": "stdout",
     "output_type": "stream",
     "text": [
      "Test set accuracy: 0.820965230928905\n"
     ]
    }
   ],
   "source": [
    "from sklearn.neighbors import KNeighborsClassifier\n",
    "\n",
    "# Split our data into train & test sets\n",
    "\n",
    "# Instantiate the model & fit it to our data\n",
    "KNN_model = KNeighborsClassifier(n_neighbors=3, weights='distance' )\n",
    "KNN_model.fit(X_train, y_train)\n",
    "\n",
    "# Score the model on the test set\n",
    "test_predictions = KNN_model.predict(X_test)\n",
    "test_accuracy = accuracy_score(test_predictions, y_test)\n",
    "print(f\"Test set accuracy: {test_accuracy}\")"
   ]
  },
  {
   "cell_type": "markdown",
   "metadata": {},
   "source": [
    "#### Decision Tree"
   ]
  },
  {
   "cell_type": "code",
   "execution_count": 358,
   "metadata": {},
   "outputs": [],
   "source": [
    "from sklearn.tree import DecisionTreeClassifier"
   ]
  },
  {
   "cell_type": "code",
   "execution_count": 359,
   "metadata": {},
   "outputs": [
    {
     "data": {
      "text/plain": [
       "<matplotlib.legend.Legend at 0x1a41a12910>"
      ]
     },
     "execution_count": 359,
     "metadata": {},
     "output_type": "execute_result"
    },
    {
     "data": {
      "image/png": "[encoded data removed]",
      "text/plain": [
       "<Figure size 432x288 with 1 Axes>"
      ]
     },
     "metadata": {},
     "output_type": "display_data"
    }
   ],
   "source": [
    "training_scores = []\n",
    "test_scores = []\n",
    "\n",
    "for i in range(1,40):\n",
    "    # Instantiate & fit the DT\n",
    "    DT_model = DecisionTreeClassifier(max_depth=i, max_leaf_nodes=100)\n",
    "    DT_model.fit(X_train, y_train)\n",
    "    \n",
    "    training_scores.append(DT_model.score(X_train, y_train))\n",
    "    test_scores.append(DT_model.score(X_test, y_test))\n",
    "\n",
    "plt.figure()\n",
    "plt.title('Decision Tree Accuracy')\n",
    "plt.plot(training_scores)\n",
    "plt.plot(test_scores)\n",
    "plt.legend(['Training', 'test'])"
   ]
  },
  {
   "cell_type": "code",
   "execution_count": 360,
   "metadata": {},
   "outputs": [
    {
     "data": {
      "text/plain": [
       "<matplotlib.legend.Legend at 0x1a40f0bf10>"
      ]
     },
     "execution_count": 360,
     "metadata": {},
     "output_type": "execute_result"
    },
    {
     "data": {
      "image/png": "[encoded data removed]",
      "text/plain": [
       "<Figure size 432x288 with 1 Axes>"
      ]
     },
     "metadata": {},
     "output_type": "display_data"
    }
   ],
   "source": [
    "training_scores = []\n",
    "test_scores = []\n",
    "\n",
    "for i in range(2,200):\n",
    "    # Instantiate & fit the DT\n",
    "    DT_model = DecisionTreeClassifier(max_depth=19, max_leaf_nodes=i)\n",
    "    DT_model.fit(X_train, y_train)\n",
    "    \n",
    "    training_scores.append(DT_model.score(X_train, y_train))\n",
    "    test_scores.append(DT_model.score(X_test, y_test))\n",
    "\n",
    "plt.figure()\n",
    "plt.title('Decision Tree Accuracy')\n",
    "plt.plot(training_scores)\n",
    "plt.plot(test_scores)\n",
    "plt.legend(['Training', 'test'])"
   ]
  },
  {
   "cell_type": "code",
   "execution_count": 361,
   "metadata": {},
   "outputs": [
    {
     "name": "stdout",
     "output_type": "stream",
     "text": [
      "DT training set accuracy: 1.0\n",
      "DT test set accuracy: 1.0\n"
     ]
    }
   ],
   "source": [
    "# Instantiate & fit the DT\n",
    "DT_model = DecisionTreeClassifier(max_depth = 4, max_leaf_nodes=20)\n",
    "DT_model.fit(X_train, y_train) \n",
    "\n",
    "# Evaluate its classification accuracy (Just on the training set for now)\n",
    "print(f\"DT training set accuracy: {DT_model.score(X_train, y_train)}\")\n",
    "print(f\"DT test set accuracy: {DT_model.score(X_test, y_test)}\")"
   ]
  },
  {
   "cell_type": "markdown",
   "metadata": {},
   "source": [
    "#### Support Vector Machines"
   ]
  },
  {
   "cell_type": "code",
   "execution_count": 364,
   "metadata": {},
   "outputs": [
    {
     "name": "stdout",
     "output_type": "stream",
     "text": [
      "The TRAIN classification accuracy is: 1.0\n",
      "The TEST classification accuracy is: 1.0\n"
     ]
    },
    {
     "name": "stderr",
     "output_type": "stream",
     "text": [
      "/Users/davepenny/opt/anaconda3/lib/python3.7/site-packages/sklearn/svm/_base.py:947: ConvergenceWarning: Liblinear failed to converge, increase the number of iterations.\n",
      "  \"the number of iterations.\", ConvergenceWarning)\n"
     ]
    }
   ],
   "source": [
    "from sklearn.svm import LinearSVC\n",
    "\n",
    "SVM_model = LinearSVC(max_iter=1000000)\n",
    "SVM_model.fit(X_train, y_train)\n",
    "\n",
    "print(f\"The TRAIN classification accuracy is: {SVM_model.score(X_train,y_train)}\")\n",
    "print(f\"The TEST classification accuracy is: {SVM_model.score(X_test,y_test)}\")"
   ]
  },
  {
   "cell_type": "code",
   "execution_count": 363,
   "metadata": {},
   "outputs": [
    {
     "name": "stdout",
     "output_type": "stream",
     "text": [
      "Linear SVM score (train): 1.0\n",
      "Linear SVM score (test): 1.0\n"
     ]
    }
   ],
   "source": [
    "from sklearn.svm import SVC\n",
    "\n",
    "my_RBF_kernel_SVM = SVC()\n",
    "my_linear_kernel_SVM = SVC(kernel='linear')\n",
    "\n",
    "#Fit the data\n",
    "my_linear_kernel_SVM.fit(X_train, y_train)\n",
    "\n",
    "#Get the score\n",
    "print(f\"Linear SVM score (train): {my_linear_kernel_SVM.score(X_train,y_train)}\")\n",
    "print(f\"Linear SVM score (test): {my_linear_kernel_SVM.score(X_test,y_test)}\")"
   ]
  },
  {
   "cell_type": "markdown",
   "metadata": {},
   "source": [
    "### 9. Model Tuning and Selection"
   ]
  },
  {
   "cell_type": "code",
   "execution_count": 308,
   "metadata": {},
   "outputs": [],
   "source": [
    "from sklearn.model_selection import train_test_split\n",
    "from sklearn.tree import DecisionTreeClassifier\n",
    "from sklearn.model_selection import cross_val_score\n",
    "from sklearn.model_selection import GridSearchCV\n",
    "from sklearn.pipeline import Pipeline\n",
    "from sklearn.preprocessing import StandardScaler\n",
    "from sklearn.preprocessing import MinMaxScaler\n",
    "from sklearn.decomposition import PCA"
   ]
  },
  {
   "cell_type": "code",
   "execution_count": 313,
   "metadata": {},
   "outputs": [],
   "source": [
    "X_remainder, X_test, y_remainder, y_test = train_test_split(X, y, test_size=0.2, stratify = y, random_state=1)"
   ]
  },
  {
   "cell_type": "code",
   "execution_count": 314,
   "metadata": {},
   "outputs": [],
   "source": [
    "my_pipeline = Pipeline([('scalar', StandardScaler()), ('dim_reducer', PCA()), ('model', DecisionTreeClassifier)])"
   ]
  },
  {
   "cell_type": "code",
   "execution_count": 318,
   "metadata": {},
   "outputs": [],
   "source": [
    "# Parameter grid \n",
    "dt_params2 = [\n",
    "    \n",
    "    #without PCA \n",
    "    {'scalar': [None], \n",
    "    'dim_reducer' : [None],\n",
    "    'model' : [DecisionTreeClassifier(random_state = 1)], \n",
    "    'model__max_depth' : list(range(1,11))},\n",
    "               \n",
    "    #with PCA \n",
    "    {'scalar' : [StandardScaler(), MinMaxScaler()],\n",
    "    'dim_reducer' : [PCA()],\n",
    "    'dim_reducer__n_components' : [.95,0.90,.85,0.8],\n",
    "    'model' : [DecisionTreeClassifier(random_state=1)],\n",
    "    'model__max_depth' : list(range(1,11))}\n",
    "]"
   ]
  },
  {
   "cell_type": "code",
   "execution_count": 319,
   "metadata": {},
   "outputs": [],
   "source": [
    "gs_dtmodel2 = GridSearchCV(my_pipeline, param_grid = dt_params2, cv = 5)"
   ]
  },
  {
   "cell_type": "code",
   "execution_count": 321,
   "metadata": {},
   "outputs": [],
   "source": [
    "gs_dtmodels2_fitted = gs_dtmodel2.fit(X_remainder, y_remainder)"
   ]
  },
  {
   "cell_type": "code",
   "execution_count": 323,
   "metadata": {},
   "outputs": [
    {
     "data": {
      "text/plain": [
       "{'dim_reducer': None,\n",
       " 'model': DecisionTreeClassifier(ccp_alpha=0.0, class_weight=None, criterion='gini',\n",
       "                        max_depth=1, max_features=None, max_leaf_nodes=None,\n",
       "                        min_impurity_decrease=0.0, min_impurity_split=None,\n",
       "                        min_samples_leaf=1, min_samples_split=2,\n",
       "                        min_weight_fraction_leaf=0.0, presort='deprecated',\n",
       "                        random_state=1, splitter='best'),\n",
       " 'model__max_depth': 1,\n",
       " 'scalar': None}"
      ]
     },
     "execution_count": 323,
     "metadata": {},
     "output_type": "execute_result"
    }
   ],
   "source": [
    "gs_dtmodels2_fitted.best_params_"
   ]
  },
  {
   "cell_type": "code",
   "execution_count": 326,
   "metadata": {},
   "outputs": [
    {
     "name": "stdout",
     "output_type": "stream",
     "text": [
      "1.0\n",
      "1.0\n"
     ]
    }
   ],
   "source": [
    "print(gs_dtmodels2_fitted.score( X_remainder, y_remainder))\n",
    "print(gs_dtmodels2_fitted.score( X_test, y_test))"
   ]
  },
  {
   "cell_type": "code",
   "execution_count": null,
   "metadata": {},
   "outputs": [],
   "source": []
  }
 ],
 "metadata": {
  "kernelspec": {
   "display_name": "Python 3",
   "language": "python",
   "name": "python3"
  },
  "language_info": {
   "codemirror_mode": {
    "name": "ipython",
    "version": 3
   },
   "file_extension": ".py",
   "mimetype": "text/x-python",
   "name": "python",
   "nbconvert_exporter": "python",
   "pygments_lexer": "ipython3",
   "version": "3.7.6"
  },
  "toc-autonumbering": false
 },
 "nbformat": 4,
 "nbformat_minor": 4
}
